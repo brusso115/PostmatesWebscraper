{
 "cells": [
  {
   "cell_type": "code",
   "execution_count": 58,
   "metadata": {},
   "outputs": [],
   "source": [
    "import pandas as pd\n",
    "import numpy as np\n",
    "import re\n",
    "import matplotlib.pyplot as plt\n",
    "import seaborn as sns\n",
    "import geopandas as gpd\n",
    "import plotly.express as px\n",
    "import json\n",
    "import plotly.graph_objects as go\n",
    "from geopy.geocoders import Nominatim\n",
    "from shapely.geometry import Point, Polygon\n",
    "from area import area\n",
    "from sklearn import neighbors\n",
    "\n",
    "%matplotlib inline"
   ]
  },
  {
   "cell_type": "code",
   "execution_count": 59,
   "metadata": {},
   "outputs": [
    {
     "data": {
      "text/plain": [
       "'\\npostmates = pd.read_csv(\\'/Users/baileyrusso/PycharmProjects/GrubHubScraper/postmates.csv\\')\\npostmates = postmates.loc[:, ~postmates.columns.str.contains(\\'^Unnamed\\')]\\npostmates[\\'Address_Coordinates\\'] = list(map(lambda row: str(row).replace(\"(\",\"\").replace(\")\",\"\").split(\",\"), postmates[\\'Address_Coordinates\\']))\\npostmates[\\'Address_Coordinates\\'] = list(map(lambda row: tuple([float(i) for i in row if pd.notnull(i)]) , postmates[\\'Address_Coordinates\\']))\\npostmates[[\\'Latitude\\', \\'Longitude\\']] = pd.DataFrame(postmates[\\'Address_Coordinates\\'].tolist(), index=postmates.index)\\npostmates[\\'Favorites\\'] = postmates[\\'Favorites\\'].fillna(0)\\n'"
      ]
     },
     "execution_count": 59,
     "metadata": {},
     "output_type": "execute_result"
    }
   ],
   "source": [
    "'''\n",
    "postmates = pd.read_csv('/Users/baileyrusso/PycharmProjects/GrubHubScraper/postmates.csv')\n",
    "postmates = postmates.loc[:, ~postmates.columns.str.contains('^Unnamed')]\n",
    "postmates['Address_Coordinates'] = list(map(lambda row: str(row).replace(\"(\",\"\").replace(\")\",\"\").split(\",\"), postmates['Address_Coordinates']))\n",
    "postmates['Address_Coordinates'] = list(map(lambda row: tuple([float(i) for i in row if pd.notnull(i)]) , postmates['Address_Coordinates']))\n",
    "postmates[['Latitude', 'Longitude']] = pd.DataFrame(postmates['Address_Coordinates'].tolist(), index=postmates.index)\n",
    "postmates['Favorites'] = postmates['Favorites'].fillna(0)\n",
    "'''"
   ]
  },
  {
   "cell_type": "markdown",
   "metadata": {},
   "source": [
    "# Plotting Restaurant Coordinates"
   ]
  },
  {
   "cell_type": "code",
   "execution_count": 60,
   "metadata": {},
   "outputs": [
    {
     "data": {
      "text/plain": [
       "\"\\ncrs = {'init':'epsg:2263'}\\ngeometry = [Point(addr[1], addr[0]) for addr in postmates['Address_Coordinates']]\\ngeo_df = gpd.GeoDataFrame(postmates, crs=crs, geometry=geometry)\\ngeo_df\\n\""
      ]
     },
     "execution_count": 60,
     "metadata": {},
     "output_type": "execute_result"
    }
   ],
   "source": [
    "'''\n",
    "crs = {'init':'epsg:2263'}\n",
    "geometry = [Point(addr[1], addr[0]) for addr in postmates['Address_Coordinates']]\n",
    "geo_df = gpd.GeoDataFrame(postmates, crs=crs, geometry=geometry)\n",
    "geo_df\n",
    "'''"
   ]
  },
  {
   "cell_type": "code",
   "execution_count": 61,
   "metadata": {},
   "outputs": [
    {
     "data": {
      "text/plain": [
       "\"\\nstreet_map = gpd.read_file('pluto/pluto.shp')\\nfig, ax = plt.subplots(figsize=(15,15))\\nstreet_map.plot(ax = ax, alpha=0.4, color='gray')\\ngeo_df.plot(ax=ax, markersize=20,color='blue',marker='o')\\n\""
      ]
     },
     "execution_count": 61,
     "metadata": {},
     "output_type": "execute_result"
    }
   ],
   "source": [
    "'''\n",
    "street_map = gpd.read_file('pluto/pluto.shp')\n",
    "fig, ax = plt.subplots(figsize=(15,15))\n",
    "street_map.plot(ax = ax, alpha=0.4, color='gray')\n",
    "geo_df.plot(ax=ax, markersize=20,color='blue',marker='o')\n",
    "'''"
   ]
  },
  {
   "cell_type": "code",
   "execution_count": 62,
   "metadata": {},
   "outputs": [],
   "source": [
    "#nycmapURL = '/Users/baileyrusso/PycharmProjects/GrubHubScraper/pluto.geojson'"
   ]
  },
  {
   "cell_type": "code",
   "execution_count": 63,
   "metadata": {},
   "outputs": [],
   "source": [
    "#all_data_diffq = (postmates[\"Favorites\"].max() - postmates[\"Favorites\"].min()) / 16\n",
    "postmates_grouped = postmates.groupby(['Name','Category']).mean().reset_index()\n",
    "fav_scaled = (postmates_grouped[\"Favorites\"].max() - postmates_grouped[\"Favorites\"].min()) / 16\n",
    "postmates_grouped[\"scale\"] = (postmates_grouped[\"Favorites\"] - postmates_grouped[\"Favorites\"].min()) / fav_scaled + 1\n",
    "\n"
   ]
  },
  {
   "cell_type": "code",
   "execution_count": 64,
   "metadata": {},
   "outputs": [
    {
     "data": {
      "text/html": [
       "<div>\n",
       "<style scoped>\n",
       "    .dataframe tbody tr th:only-of-type {\n",
       "        vertical-align: middle;\n",
       "    }\n",
       "\n",
       "    .dataframe tbody tr th {\n",
       "        vertical-align: top;\n",
       "    }\n",
       "\n",
       "    .dataframe thead th {\n",
       "        text-align: right;\n",
       "    }\n",
       "</style>\n",
       "<table border=\"1\" class=\"dataframe\">\n",
       "  <thead>\n",
       "    <tr style=\"text-align: right;\">\n",
       "      <th></th>\n",
       "      <th>Name</th>\n",
       "      <th>Category</th>\n",
       "      <th>Favorites</th>\n",
       "      <th>MenuItemPrice</th>\n",
       "      <th>Latitude</th>\n",
       "      <th>Longitude</th>\n",
       "      <th>scale</th>\n",
       "    </tr>\n",
       "  </thead>\n",
       "  <tbody>\n",
       "    <tr>\n",
       "      <th>0</th>\n",
       "      <td>Aahar Indian Cuisine</td>\n",
       "      <td>INDIAN</td>\n",
       "      <td>57.0</td>\n",
       "      <td>11.332184</td>\n",
       "      <td>40.713308</td>\n",
       "      <td>-74.008042</td>\n",
       "      <td>1.276364</td>\n",
       "    </tr>\n",
       "    <tr>\n",
       "      <th>1</th>\n",
       "      <td>Al Horno Lean Mexican Kitchen</td>\n",
       "      <td>MEXICAN</td>\n",
       "      <td>0.0</td>\n",
       "      <td>8.540650</td>\n",
       "      <td>40.704702</td>\n",
       "      <td>-74.008857</td>\n",
       "      <td>1.000000</td>\n",
       "    </tr>\n",
       "    <tr>\n",
       "      <th>2</th>\n",
       "      <td>Ali Baba Organic Marketplace</td>\n",
       "      <td>GROCERY</td>\n",
       "      <td>159.0</td>\n",
       "      <td>8.891416</td>\n",
       "      <td>40.713719</td>\n",
       "      <td>-73.998778</td>\n",
       "      <td>1.770909</td>\n",
       "    </tr>\n",
       "    <tr>\n",
       "      <th>3</th>\n",
       "      <td>Alimama Tea</td>\n",
       "      <td>DESSERT</td>\n",
       "      <td>102.0</td>\n",
       "      <td>4.365854</td>\n",
       "      <td>40.715801</td>\n",
       "      <td>-73.999247</td>\n",
       "      <td>1.494545</td>\n",
       "    </tr>\n",
       "    <tr>\n",
       "      <th>4</th>\n",
       "      <td>Antique Garage Soho</td>\n",
       "      <td>MEDITERRANEAN</td>\n",
       "      <td>0.0</td>\n",
       "      <td>25.446809</td>\n",
       "      <td>40.721481</td>\n",
       "      <td>-74.001373</td>\n",
       "      <td>1.000000</td>\n",
       "    </tr>\n",
       "    <tr>\n",
       "      <th>...</th>\n",
       "      <td>...</td>\n",
       "      <td>...</td>\n",
       "      <td>...</td>\n",
       "      <td>...</td>\n",
       "      <td>...</td>\n",
       "      <td>...</td>\n",
       "      <td>...</td>\n",
       "    </tr>\n",
       "    <tr>\n",
       "      <th>167</th>\n",
       "      <td>Yaya Tea Garden</td>\n",
       "      <td>TEA</td>\n",
       "      <td>104.0</td>\n",
       "      <td>3.906098</td>\n",
       "      <td>40.716202</td>\n",
       "      <td>-73.994952</td>\n",
       "      <td>1.504242</td>\n",
       "    </tr>\n",
       "    <tr>\n",
       "      <th>168</th>\n",
       "      <td>Yi Fang Taiwan Fruit Tea</td>\n",
       "      <td>TEA</td>\n",
       "      <td>0.0</td>\n",
       "      <td>6.208333</td>\n",
       "      <td>40.715352</td>\n",
       "      <td>-73.998268</td>\n",
       "      <td>1.000000</td>\n",
       "    </tr>\n",
       "    <tr>\n",
       "      <th>169</th>\n",
       "      <td>by CHLOE.</td>\n",
       "      <td>VEGAN</td>\n",
       "      <td>264.0</td>\n",
       "      <td>6.872368</td>\n",
       "      <td>40.702526</td>\n",
       "      <td>-73.985988</td>\n",
       "      <td>2.280000</td>\n",
       "    </tr>\n",
       "    <tr>\n",
       "      <th>170</th>\n",
       "      <td>sweetgreen</td>\n",
       "      <td>VEGETARIAN</td>\n",
       "      <td>76.0</td>\n",
       "      <td>11.915714</td>\n",
       "      <td>40.715464</td>\n",
       "      <td>-74.008865</td>\n",
       "      <td>1.368485</td>\n",
       "    </tr>\n",
       "    <tr>\n",
       "      <th>171</th>\n",
       "      <td>Épicerie Boulud</td>\n",
       "      <td>FRENCH</td>\n",
       "      <td>0.0</td>\n",
       "      <td>7.657895</td>\n",
       "      <td>40.711251</td>\n",
       "      <td>-74.012080</td>\n",
       "      <td>1.000000</td>\n",
       "    </tr>\n",
       "  </tbody>\n",
       "</table>\n",
       "<p>172 rows × 7 columns</p>\n",
       "</div>"
      ],
      "text/plain": [
       "                              Name       Category  Favorites  MenuItemPrice  \\\n",
       "0             Aahar Indian Cuisine         INDIAN       57.0      11.332184   \n",
       "1    Al Horno Lean Mexican Kitchen        MEXICAN        0.0       8.540650   \n",
       "2     Ali Baba Organic Marketplace        GROCERY      159.0       8.891416   \n",
       "3                      Alimama Tea        DESSERT      102.0       4.365854   \n",
       "4              Antique Garage Soho  MEDITERRANEAN        0.0      25.446809   \n",
       "..                             ...            ...        ...            ...   \n",
       "167                Yaya Tea Garden            TEA      104.0       3.906098   \n",
       "168       Yi Fang Taiwan Fruit Tea            TEA        0.0       6.208333   \n",
       "169                      by CHLOE.          VEGAN      264.0       6.872368   \n",
       "170                     sweetgreen     VEGETARIAN       76.0      11.915714   \n",
       "171                Épicerie Boulud         FRENCH        0.0       7.657895   \n",
       "\n",
       "      Latitude  Longitude     scale  \n",
       "0    40.713308 -74.008042  1.276364  \n",
       "1    40.704702 -74.008857  1.000000  \n",
       "2    40.713719 -73.998778  1.770909  \n",
       "3    40.715801 -73.999247  1.494545  \n",
       "4    40.721481 -74.001373  1.000000  \n",
       "..         ...        ...       ...  \n",
       "167  40.716202 -73.994952  1.504242  \n",
       "168  40.715352 -73.998268  1.000000  \n",
       "169  40.702526 -73.985988  2.280000  \n",
       "170  40.715464 -74.008865  1.368485  \n",
       "171  40.711251 -74.012080  1.000000  \n",
       "\n",
       "[172 rows x 7 columns]"
      ]
     },
     "execution_count": 64,
     "metadata": {},
     "output_type": "execute_result"
    }
   ],
   "source": [
    "postmates_grouped"
   ]
  },
  {
   "cell_type": "code",
   "execution_count": 65,
   "metadata": {},
   "outputs": [
    {
     "data": {
      "application/vnd.plotly.v1+json": {
       "config": {
        "plotlyServerURL": "https://plot.ly"
       },
       "data": [
        {
         "customdata": [
          [
           57
          ],
          [
           67
          ],
          [
           79
          ]
         ],
         "hovertemplate": "<b>%{hovertext}</b><br><br>Category=INDIAN<br>scale=%{marker.size}<br>Latitude=%{lat}<br>Longitude=%{lon}<br>Favorites=%{customdata[0]}<extra></extra>",
         "hovertext": [
          "Aahar Indian Cuisine",
          "Bombay's Indian Restaurant",
          "Hampton Chutney Co."
         ],
         "lat": [
          40.71330820000002,
          40.70343895000009,
          40.7150004
         ],
         "legendgroup": "INDIAN",
         "lon": [
          -74.00804160000006,
          -74.0110852211886,
          -73.96204710485655
         ],
         "marker": {
          "color": "#636efa",
          "size": [
           1.2763636363636364,
           1.3248484848484847,
           1.383030303030303
          ],
          "sizemin": 4,
          "sizemode": "area",
          "sizeref": 0.0425
         },
         "mode": "markers",
         "name": "INDIAN",
         "showlegend": true,
         "subplot": "mapbox",
         "type": "scattermapbox"
        },
        {
         "customdata": [
          [
           0
          ],
          [
           125
          ],
          [
           54
          ]
         ],
         "hovertemplate": "<b>%{hovertext}</b><br><br>Category=MEXICAN<br>scale=%{marker.size}<br>Latitude=%{lat}<br>Longitude=%{lon}<br>Favorites=%{customdata[0]}<extra></extra>",
         "hovertext": [
          "Al Horno Lean Mexican Kitchen",
          "Dos Toros Taqueria",
          "Tacombi"
         ],
         "lat": [
          40.70470170000007,
          40.70697079999994,
          40.6250837
         ],
         "legendgroup": "MEXICAN",
         "lon": [
          -74.0088567000001,
          -74.00687829999988,
          -74.07772179999998
         ],
         "marker": {
          "color": "#EF553B",
          "size": [
           1,
           1.606060606060606,
           1.2618181818181817
          ],
          "sizemin": 4,
          "sizemode": "area",
          "sizeref": 0.0425
         },
         "mode": "markers",
         "name": "MEXICAN",
         "showlegend": true,
         "subplot": "mapbox",
         "type": "scattermapbox"
        },
        {
         "customdata": [
          [
           159
          ],
          [
           0
          ],
          [
           202
          ],
          [
           95
          ],
          [
           0
          ],
          [
           308
          ]
         ],
         "hovertemplate": "<b>%{hovertext}</b><br><br>Category=GROCERY<br>scale=%{marker.size}<br>Latitude=%{lat}<br>Longitude=%{lon}<br>Favorites=%{customdata[0]}<extra></extra>",
         "hovertext": [
          "Ali Baba Organic Marketplace",
          "Corner Grocers",
          "East Village Beer & Grocery",
          "GreenStar Grocery",
          "Rivington Deli & Grocery",
          "Village Farm & Grocery"
         ],
         "lat": [
          40.7137186,
          40.71995990000074,
          40.72635689999926,
          40.718631599999945,
          40.720101624998975,
          40.729226299999254
         ],
         "legendgroup": "GROCERY",
         "lon": [
          -73.9987780000001,
          -73.98914309999967,
          -73.98952329999909,
          -73.98934889999305,
          -73.9891033125012,
          -73.98699760000198
         ],
         "marker": {
          "color": "#00cc96",
          "size": [
           1.770909090909091,
           1,
           1.9793939393939395,
           1.4606060606060607,
           1,
           2.493333333333333
          ],
          "sizemin": 4,
          "sizemode": "area",
          "sizeref": 0.0425
         },
         "mode": "markers",
         "name": "GROCERY",
         "showlegend": true,
         "subplot": "mapbox",
         "type": "scattermapbox"
        },
        {
         "customdata": [
          [
           102
          ],
          [
           173
          ],
          [
           0
          ],
          [
           0
          ]
         ],
         "hovertemplate": "<b>%{hovertext}</b><br><br>Category=DESSERT<br>scale=%{marker.size}<br>Latitude=%{lat}<br>Longitude=%{lon}<br>Favorites=%{customdata[0]}<extra></extra>",
         "hovertext": [
          "Alimama Tea",
          "Eileen's Special Cheesecake",
          "Mango Mango",
          "Sweet Rehab"
         ],
         "lat": [
          40.71580100000004,
          40.72158510000007,
          null,
          40.726725349999974
         ],
         "legendgroup": "DESSERT",
         "lon": [
          -73.99924689999993,
          -73.99723269999974,
          null,
          -74.00194414921077
         ],
         "marker": {
          "color": "#ab63fa",
          "size": [
           1.4945454545454546,
           1.8387878787878789,
           1,
           1
          ],
          "sizemin": 4,
          "sizemode": "area",
          "sizeref": 0.0425
         },
         "mode": "markers",
         "name": "DESSERT",
         "showlegend": true,
         "subplot": "mapbox",
         "type": "scattermapbox"
        },
        {
         "customdata": [
          [
           0
          ],
          [
           53
          ],
          [
           60
          ]
         ],
         "hovertemplate": "<b>%{hovertext}</b><br><br>Category=MEDITERRANEAN<br>scale=%{marker.size}<br>Latitude=%{lat}<br>Longitude=%{lon}<br>Favorites=%{customdata[0]}<extra></extra>",
         "hovertext": [
          "Antique Garage Soho",
          "Nish Nush",
          "Nish Nūsh"
         ],
         "lat": [
          40.72148119999998,
          40.70946529999996,
          40.71564410000004
         ],
         "legendgroup": "MEDITERRANEAN",
         "lon": [
          -74.00137279999993,
          -74.00800561369974,
          -74.00775869999994
         ],
         "marker": {
          "color": "#FFA15A",
          "size": [
           1,
           1.2569696969696968,
           1.290909090909091
          ],
          "sizemin": 4,
          "sizemode": "area",
          "sizeref": 0.0425
         },
         "mode": "markers",
         "name": "MEDITERRANEAN",
         "showlegend": true,
         "subplot": "mapbox",
         "type": "scattermapbox"
        },
        {
         "customdata": [
          [
           0
          ],
          [
           0
          ],
          [
           0
          ],
          [
           0
          ],
          [
           0
          ],
          [
           0
          ],
          [
           0
          ],
          [
           0
          ],
          [
           0
          ],
          [
           928
          ],
          [
           84
          ]
         ],
         "hovertemplate": "<b>%{hovertext}</b><br><br>Category=THAI<br>scale=%{marker.size}<br>Latitude=%{lat}<br>Longitude=%{lon}<br>Favorites=%{customdata[0]}<extra></extra>",
         "hovertext": [
          "Appethaize",
          "Aroy Dee Thai Cuisine",
          "Fire Ass Thai",
          "Lan Larb Soho",
          "Pad Thai Snob",
          "PadThaiGuy",
          "Panang Panang! Thai Curry",
          "THAI THAI THAI",
          "Thai Ai Ai",
          "Thai Villa",
          "Wok Wok"
         ],
         "lat": [
          40.71637360000012,
          40.70976150000006,
          40.71403855000021,
          40.71994699999986,
          40.71403854999986,
          40.71403855000017,
          40.71403855000008,
          40.7140385500002,
          40.71403855000012,
          40.73898090000008,
          40.71403855000092
         ],
         "legendgroup": "THAI",
         "lon": [
          -73.99990489999989,
          -74.00889190000038,
          -73.99896129292502,
          -73.99859250000007,
          -73.99896129292536,
          -73.99896129292513,
          -73.99896129292536,
          -73.99896129292488,
          -73.99896129292526,
          -73.99070589999994,
          -73.9989612929235
         ],
         "marker": {
          "color": "#19d3f3",
          "size": [
           1,
           1,
           1,
           1,
           1,
           1,
           1,
           1,
           1,
           5.499393939393939,
           1.4072727272727272
          ],
          "sizemin": 4,
          "sizemode": "area",
          "sizeref": 0.0425
         },
         "mode": "markers",
         "name": "THAI",
         "showlegend": true,
         "subplot": "mapbox",
         "type": "scattermapbox"
        },
        {
         "customdata": [
          [
           52
          ],
          [
           587
          ]
         ],
         "hovertemplate": "<b>%{hovertext}</b><br><br>Category=LATIN AMERICAN<br>scale=%{marker.size}<br>Latitude=%{lat}<br>Longitude=%{lon}<br>Favorites=%{customdata[0]}<extra></extra>",
         "hovertext": [
          "Areppas",
          "Empanada Mama"
         ],
         "lat": [
          40.72184980000007,
          40.71876654999999
         ],
         "legendgroup": "LATIN AMERICAN",
         "lon": [
          -73.9971334000001,
          -73.99099874939843
         ],
         "marker": {
          "color": "#FF6692",
          "size": [
           1.2521212121212122,
           3.846060606060606
          ],
          "sizemin": 4,
          "sizemode": "area",
          "sizeref": 0.0425
         },
         "mode": "markers",
         "name": "LATIN AMERICAN",
         "showlegend": true,
         "subplot": "mapbox",
         "type": "scattermapbox"
        },
        {
         "customdata": [
          [
           0
          ],
          [
           72
          ],
          [
           61
          ],
          [
           57
          ],
          [
           0
          ],
          [
           0
          ],
          [
           53
          ],
          [
           0
          ],
          [
           617
          ],
          [
           276
          ],
          [
           516
          ]
         ],
         "hovertemplate": "<b>%{hovertext}</b><br><br>Category=AMERICAN<br>scale=%{marker.size}<br>Latitude=%{lat}<br>Longitude=%{lon}<br>Favorites=%{customdata[0]}<extra></extra>",
         "hovertext": [
          "B*tch Don't Grill My Cheese",
          "Belle Reve",
          "Dig",
          "Gee Whiz Diner",
          "Manhattan Proper",
          "Melt Shop",
          "Mudville Restaurant & Tap House",
          "Pasta Glory",
          "Springbone Kitchen",
          "Westville - Hudson",
          "Westville - West"
         ],
         "lat": [
          40.70486119999992,
          40.71950495000006,
          40.70181469999994,
          40.71597690000043,
          40.71318055000003,
          40.70990200000004,
          40.71517575000004,
          40.71016000000006,
          40.677837000000004,
          40.72712050000005,
          40.73388209999995
         ],
         "legendgroup": "AMERICAN",
         "lon": [
          -74.00955989999979,
          -74.00409816786005,
          -73.94348129999992,
          -74.01083609999944,
          -74.00800608583496,
          -74.00684309999998,
          -74.00893411922428,
          -74.00575169999985,
          -73.99391999999992,
          -74.00753559999998,
          -74.00414915426035
         ],
         "marker": {
          "color": "#B6E880",
          "size": [
           1,
           1.3490909090909091,
           1.2957575757575759,
           1.2763636363636364,
           1,
           1,
           1.2569696969696968,
           1,
           3.9915151515151517,
           2.338181818181818,
           3.501818181818182
          ],
          "sizemin": 4,
          "sizemode": "area",
          "sizeref": 0.0425
         },
         "mode": "markers",
         "name": "AMERICAN",
         "showlegend": true,
         "subplot": "mapbox",
         "type": "scattermapbox"
        },
        {
         "customdata": [
          [
           0
          ],
          [
           85
          ],
          [
           280
          ],
          [
           0
          ],
          [
           143
          ]
         ],
         "hovertemplate": "<b>%{hovertext}</b><br><br>Category=BAKERY<br>scale=%{marker.size}<br>Latitude=%{lat}<br>Longitude=%{lon}<br>Favorites=%{customdata[0]}<extra></extra>",
         "hovertext": [
          "Baked By Melissa",
          "Cinnabon",
          "Erin Mckenna's Bakery",
          "Pi Bakerie & Eatery",
          "Ring Ding Bar"
         ],
         "lat": [
          40.70974490000001,
          40.709694200000015,
          40.71812675,
          40.72364724999992,
          40.717545500000014
         ],
         "legendgroup": "BAKERY",
         "lon": [
          -74.00701949999998,
          -74.0118963,
          -73.98961169557468,
          -74.00324294999993,
          -74.01000350193036
         ],
         "marker": {
          "color": "#FF97FF",
          "size": [
           1,
           1.412121212121212,
           2.3575757575757574,
           1,
           1.6933333333333334
          ],
          "sizemin": 4,
          "sizemode": "area",
          "sizeref": 0.0425
         },
         "mode": "markers",
         "name": "BAKERY",
         "showlegend": true,
         "subplot": "mapbox",
         "type": "scattermapbox"
        },
        {
         "customdata": [
          [
           83
          ],
          [
           0
          ],
          [
           264
          ]
         ],
         "hovertemplate": "<b>%{hovertext}</b><br><br>Category=VEGAN<br>scale=%{marker.size}<br>Latitude=%{lat}<br>Longitude=%{lon}<br>Favorites=%{customdata[0]}<extra></extra>",
         "hovertext": [
          "Beyond Sushi",
          "Nice Rice Vegan Thai",
          "by CHLOE."
         ],
         "lat": [
          40.72217135000003,
          40.7140385500001,
          40.702526450000036
         ],
         "legendgroup": "VEGAN",
         "lon": [
          -73.99636760810698,
          -73.99896129292486,
          -73.98598783528499
         ],
         "marker": {
          "color": "#FECB52",
          "size": [
           1.4024242424242424,
           1,
           2.2800000000000002
          ],
          "sizemin": 4,
          "sizemode": "area",
          "sizeref": 0.0425
         },
         "mode": "markers",
         "name": "VEGAN",
         "showlegend": true,
         "subplot": "mapbox",
         "type": "scattermapbox"
        },
        {
         "customdata": [
          [
           52
          ],
          [
           0
          ],
          [
           0
          ],
          [
           0
          ],
          [
           80
          ]
         ],
         "hovertemplate": "<b>%{hovertext}</b><br><br>Category=BREAKFAST<br>scale=%{marker.size}<br>Latitude=%{lat}<br>Longitude=%{lon}<br>Favorites=%{customdata[0]}<extra></extra>",
         "hovertext": [
          "Bluestone Lane Cafe",
          "Breakfast Beauties",
          "Flipper's",
          "Sunny & Fine's Breakfast Burritos",
          "The Vegan Breakfast"
         ],
         "lat": [
          40.72071580000009,
          40.70486119999991,
          40.72240850000002,
          40.70486119999992,
          40.71863160000005
         ],
         "legendgroup": "BREAKFAST",
         "lon": [
          -73.99478509999982,
          -74.00955989999981,
          -74.00357189999995,
          -74.0095598999998,
          -73.98934890000007
         ],
         "marker": {
          "color": "#636efa",
          "size": [
           1.2521212121212122,
           1,
           1,
           1,
           1.387878787878788
          ],
          "sizemin": 4,
          "sizemode": "area",
          "sizeref": 0.0425
         },
         "mode": "markers",
         "name": "BREAKFAST",
         "showlegend": true,
         "subplot": "mapbox",
         "type": "scattermapbox"
        },
        {
         "customdata": [
          [
           105
          ],
          [
           0
          ],
          [
           91
          ],
          [
           91
          ],
          [
           138
          ]
         ],
         "hovertemplate": "<b>%{hovertext}</b><br><br>Category=COFFEE<br>scale=%{marker.size}<br>Latitude=%{lat}<br>Longitude=%{lon}<br>Favorites=%{customdata[0]}<extra></extra>",
         "hovertext": [
          "Bluestone Lane Coffee",
          "Gregorys Coffee",
          "Jack's Stir Brew Coffee",
          "Kaffe 1668",
          "The Elk"
         ],
         "lat": [
          40.73001220000005,
          40.70600379999997,
          40.71632100000003,
          40.72091419999999,
          40.73418010000014
         ],
         "legendgroup": "COFFEE",
         "lon": [
          -74.00283299273184,
          -74.01294299999991,
          -74.0097115384615,
          -74.00968249794182,
          -74.00742429999993
         ],
         "marker": {
          "color": "#EF553B",
          "size": [
           1.509090909090909,
           1,
           1.4412121212121212,
           1.4412121212121212,
           1.669090909090909
          ],
          "sizemin": 4,
          "sizemode": "area",
          "sizeref": 0.0425
         },
         "mode": "markers",
         "name": "COFFEE",
         "showlegend": true,
         "subplot": "mapbox",
         "type": "scattermapbox"
        },
        {
         "customdata": [
          [
           319
          ],
          [
           0
          ]
         ],
         "hovertemplate": "<b>%{hovertext}</b><br><br>Category=VIETNAMESE<br>scale=%{marker.size}<br>Latitude=%{lat}<br>Longitude=%{lon}<br>Favorites=%{customdata[0]}<extra></extra>",
         "hovertext": [
          "BoCaphe",
          "Pasteur Grill and Noodles"
         ],
         "lat": [
          40.72210135000011,
          40.71671280000008
         ],
         "legendgroup": "VIETNAMESE",
         "lon": [
          -73.9976677325148,
          -73.9997084999997
         ],
         "marker": {
          "color": "#00cc96",
          "size": [
           2.546666666666667,
           1
          ],
          "sizemin": 4,
          "sizemode": "area",
          "sizeref": 0.0425
         },
         "mode": "markers",
         "name": "VIETNAMESE",
         "showlegend": true,
         "subplot": "mapbox",
         "type": "scattermapbox"
        },
        {
         "customdata": [
          [
           579
          ]
         ],
         "hovertemplate": "<b>%{hovertext}</b><br><br>Category=SOUTHERN<br>scale=%{marker.size}<br>Latitude=%{lat}<br>Longitude=%{lon}<br>Favorites=%{customdata[0]}<extra></extra>",
         "hovertext": [
          "Bobwhite Counter"
         ],
         "lat": [
          40.72362435000002
         ],
         "legendgroup": "SOUTHERN",
         "lon": [
          -73.97893769999999
         ],
         "marker": {
          "color": "#ab63fa",
          "size": [
           3.807272727272727
          ],
          "sizemin": 4,
          "sizemode": "area",
          "sizeref": 0.0425
         },
         "mode": "markers",
         "name": "SOUTHERN",
         "showlegend": true,
         "subplot": "mapbox",
         "type": "scattermapbox"
        },
        {
         "customdata": [
          [
           115
          ],
          [
           193
          ],
          [
           0
          ],
          [
           0
          ],
          [
           3300
          ],
          [
           1900
          ]
         ],
         "hovertemplate": "<b>%{hovertext}</b><br><br>Category=SUSHI<br>scale=%{marker.size}<br>Latitude=%{lat}<br>Longitude=%{lon}<br>Favorites=%{customdata[0]}<extra></extra>",
         "hovertext": [
          "Bondi Sushi - Nolita",
          "Bondi Sushi - Tribeca",
          "Go Sushi",
          "JR Sushi",
          "KazuNori | The Original Handroll Bar",
          "SUGARFISH"
         ],
         "lat": [
          40.72120600000004,
          40.71494379999998,
          40.68397829999992,
          40.71530720000008,
          40.65981285882355,
          40.725148900000015
         ],
         "legendgroup": "SUSHI",
         "lon": [
          -73.99627799999995,
          -74.01086851127363,
          -73.95559884999984,
          -74.00959920000022,
          -74.00126645882351,
          -74.00362382165937
         ],
         "marker": {
          "color": "#FFA15A",
          "size": [
           1.5575757575757576,
           1.9357575757575758,
           1,
           1,
           17,
           10.212121212121213
          ],
          "sizemin": 4,
          "sizemode": "area",
          "sizeref": 0.0425
         },
         "mode": "markers",
         "name": "SUSHI",
         "showlegend": true,
         "subplot": "mapbox",
         "type": "scattermapbox"
        },
        {
         "customdata": [
          [
           0
          ],
          [
           117
          ],
          [
           59
          ],
          [
           0
          ],
          [
           491
          ],
          [
           0
          ]
         ],
         "hovertemplate": "<b>%{hovertext}</b><br><br>Category=BURGER<br>scale=%{marker.size}<br>Latitude=%{lat}<br>Longitude=%{lon}<br>Favorites=%{customdata[0]}<extra></extra>",
         "hovertext": [
          "Breakroom",
          "Five Guys Burgers and Fries",
          "Holy Cow Burger",
          "Outlaw Burger",
          "Shake Shack",
          "Shake Shack (Bryant Park 1300)"
         ],
         "lat": [
          40.71662080000002,
          40.73232510000002,
          40.714364950000004,
          40.70920805,
          40.90813249999994,
          40.6545275714286
         ],
         "legendgroup": "BURGER",
         "lon": [
          -73.99976250000005,
          -74.00384279999999,
          -73.99069929885098,
          -74.0136683922442,
          -73.89688960000011,
          -74.01401204081637
         ],
         "marker": {
          "color": "#19d3f3",
          "size": [
           1,
           1.5672727272727274,
           1.2860606060606061,
           1,
           3.3806060606060604,
           1
          ],
          "sizemin": 4,
          "sizemode": "area",
          "sizeref": 0.0425
         },
         "mode": "markers",
         "name": "BURGER",
         "showlegend": true,
         "subplot": "mapbox",
         "type": "scattermapbox"
        },
        {
         "customdata": [
          [
           0
          ],
          [
           0
          ],
          [
           101
          ],
          [
           61
          ],
          [
           0
          ]
         ],
         "hovertemplate": "<b>%{hovertext}</b><br><br>Category=BAGEL<br>scale=%{marker.size}<br>Latitude=%{lat}<br>Longitude=%{lon}<br>Favorites=%{customdata[0]}<extra></extra>",
         "hovertext": [
          "Brekkie Bagels",
          "Essabagel Sixth Avenue LLC",
          "Gramercy Bagels",
          "Kossar's Bagels and Bialys",
          "Tal Bagels"
         ],
         "lat": [
          40.718631599999966,
          40.748631700000125,
          40.737198099999915,
          40.71640719999993,
          null
         ],
         "legendgroup": "BAGEL",
         "lon": [
          -73.9893489000002,
          -73.98934919999984,
          -73.98456930000017,
          -73.98878650000005,
          null
         ],
         "marker": {
          "color": "#FF6692",
          "size": [
           1,
           1,
           1.4896969696969697,
           1.2957575757575759,
           1
          ],
          "sizemin": 4,
          "sizemode": "area",
          "sizeref": 0.0425
         },
         "mode": "markers",
         "name": "BAGEL",
         "showlegend": true,
         "subplot": "mapbox",
         "type": "scattermapbox"
        },
        {
         "customdata": [
          [
           135
          ],
          [
           145
          ],
          [
           111
          ],
          [
           76
          ]
         ],
         "hovertemplate": "<b>%{hovertext}</b><br><br>Category=VEGETARIAN<br>scale=%{marker.size}<br>Latitude=%{lat}<br>Longitude=%{lon}<br>Favorites=%{customdata[0]}<extra></extra>",
         "hovertext": [
          "Buddha Bodai Kosher Vegetarian",
          "Buddha Bodai Vegetarian Kosher",
          "Magic Mix Juicery",
          "sweetgreen"
         ],
         "lat": [
          40.716357000000066,
          40.71386499999987,
          40.70951425000007,
          40.71546439999998
         ],
         "legendgroup": "VEGETARIAN",
         "lon": [
          -73.99917380000029,
          -73.99879839999996,
          -74.00688230123826,
          -74.00886510000005
         ],
         "marker": {
          "color": "#B6E880",
          "size": [
           1.6545454545454545,
           1.7030303030303031,
           1.538181818181818,
           1.3684848484848484
          ],
          "sizemin": 4,
          "sizemode": "area",
          "sizeref": 0.0425
         },
         "mode": "markers",
         "name": "VEGETARIAN",
         "showlegend": true,
         "subplot": "mapbox",
         "type": "scattermapbox"
        },
        {
         "customdata": [
          [
           0
          ],
          [
           0
          ],
          [
           614
          ],
          [
           0
          ],
          [
           106
          ],
          [
           56
          ],
          [
           51
          ]
         ],
         "hovertemplate": "<b>%{hovertext}</b><br><br>Category=FAST FOOD<br>scale=%{marker.size}<br>Latitude=%{lat}<br>Longitude=%{lon}<br>Favorites=%{customdata[0]}<extra></extra>",
         "hovertext": [
          "Burger King",
          "Checkers",
          "Cocu Rotisserie",
          "McDonald's",
          "Popeyes Louisiana Kitchen",
          "Taco Bell",
          "Wendy's"
         ],
         "lat": [
          40.70958419999992,
          40.71135350000002,
          40.730041142857154,
          40.716297799999886,
          40.71791940000002,
          40.67682249999997,
          40.710047999999944
         ],
         "legendgroup": "FAST FOOD",
         "lon": [
          -74.00703473926485,
          -73.99982929999997,
          -74.00308671428583,
          -74.01066650000018,
          -74.00059310952022,
          -73.90003169999993,
          -74.00803379999986
         ],
         "marker": {
          "color": "#FF97FF",
          "size": [
           1,
           1,
           3.976969696969697,
           1,
           1.513939393939394,
           1.2715151515151515,
           1.2472727272727273
          ],
          "sizemin": 4,
          "sizemode": "area",
          "sizeref": 0.0425
         },
         "mode": "markers",
         "name": "FAST FOOD",
         "showlegend": true,
         "subplot": "mapbox",
         "type": "scattermapbox"
        },
        {
         "customdata": [
          [
           94
          ],
          [
           0
          ]
         ],
         "hovertemplate": "<b>%{hovertext}</b><br><br>Category=ICE CREAM<br>scale=%{marker.size}<br>Latitude=%{lat}<br>Longitude=%{lon}<br>Favorites=%{customdata[0]}<extra></extra>",
         "hovertext": [
          "Carvel Ice Cream & Cake Shop",
          "Häagen-Dazs Shop"
         ],
         "lat": [
          40.707665749999975,
          40.90813250000005
         ],
         "legendgroup": "ICE CREAM",
         "lon": [
          -74.00595246337208,
          -73.89688960000025
         ],
         "marker": {
          "color": "#FECB52",
          "size": [
           1.4557575757575758,
           1
          ],
          "sizemin": 4,
          "sizemode": "area",
          "sizeref": 0.0425
         },
         "mode": "markers",
         "name": "ICE CREAM",
         "showlegend": true,
         "subplot": "mapbox",
         "type": "scattermapbox"
        },
        {
         "customdata": [
          [
           0
          ],
          [
           0
          ],
          [
           0
          ],
          [
           191
          ],
          [
           52
          ],
          [
           0
          ]
         ],
         "hovertemplate": "<b>%{hovertext}</b><br><br>Category=PIZZA<br>scale=%{marker.size}<br>Latitude=%{lat}<br>Longitude=%{lon}<br>Favorites=%{customdata[0]}<extra></extra>",
         "hovertext": [
          "Champion Pizza Soho",
          "Dat Pizza Dough",
          "FREAKING GOOD PIZZA",
          "Joe's Pizza",
          "Prince Street Pizza",
          "Williamsburg Pizza"
         ],
         "lat": [
          40.72158510000006,
          40.71016000000006,
          40.71016000000006,
          40.71012240000002,
          40.7229886,
          40.71833757142854
         ],
         "legendgroup": "PIZZA",
         "lon": [
          -73.99723269999976,
          -74.00575169999983,
          -74.00575169999985,
          -74.00774730000005,
          -73.99455800000005,
          -73.99123228571432
         ],
         "marker": {
          "color": "#636efa",
          "size": [
           1,
           1,
           1,
           1.926060606060606,
           1.2521212121212122,
           1
          ],
          "sizemin": 4,
          "sizemode": "area",
          "sizeref": 0.0425
         },
         "mode": "markers",
         "name": "PIZZA",
         "showlegend": true,
         "subplot": "mapbox",
         "type": "scattermapbox"
        },
        {
         "customdata": [
          [
           0
          ],
          [
           0
          ],
          [
           0
          ],
          [
           71
          ],
          [
           0
          ],
          [
           0
          ]
         ],
         "hovertemplate": "<b>%{hovertext}</b><br><br>Category=SANDWICH<br>scale=%{marker.size}<br>Latitude=%{lat}<br>Longitude=%{lon}<br>Favorites=%{customdata[0]}<extra></extra>",
         "hovertext": [
          "Cheeky's Cheesesteaks",
          "Cutlets Sandwich Co.",
          "Grilled Cheese Society",
          "Lenwich",
          "Potbelly Sandwich Shop",
          "Subway"
         ],
         "lat": [
          40.70486119999991,
          40.738829149999994,
          40.709208049999994,
          40.73470759999986,
          40.71013499999995,
          40.71527800000002
         ],
         "legendgroup": "SANDWICH",
         "lon": [
          -74.00955989999984,
          -73.98952199729624,
          -74.01366839224421,
          -73.99234599999961,
          -74.0073570000001,
          -74.00745290000013
         ],
         "marker": {
          "color": "#EF553B",
          "size": [
           1,
           1,
           1,
           1.3442424242424242,
           1,
           1
          ],
          "sizemin": 4,
          "sizemode": "area",
          "sizeref": 0.0425
         },
         "mode": "markers",
         "name": "SANDWICH",
         "showlegend": true,
         "subplot": "mapbox",
         "type": "scattermapbox"
        },
        {
         "customdata": [
          [
           0
          ],
          [
           231
          ],
          [
           0
          ],
          [
           0
          ],
          [
           157
          ],
          [
           172
          ]
         ],
         "hovertemplate": "<b>%{hovertext}</b><br><br>Category=CHINESE<br>scale=%{marker.size}<br>Latitude=%{lat}<br>Longitude=%{lon}<br>Favorites=%{customdata[0]}<extra></extra>",
         "hovertext": [
          "Chinese Fried Rice Spot",
          "Jing Fong",
          "Joe's Ginger 锦江饭店",
          "P.F. Chang's To Go (Financial District)",
          "Peking Duck House",
          "Taste Chinese Restaurant"
         ],
         "lat": [
          40.714038550000005,
          40.715983000000044,
          40.71477620000021,
          40.67682250000004,
          40.71463820000006,
          40.71570972727284
         ],
         "legendgroup": "CHINESE",
         "lon": [
          -73.99896129292505,
          -73.99720309999992,
          -73.99836917036362,
          -73.9000317,
          -73.9985570999999,
          -74.00745118181833
         ],
         "marker": {
          "color": "#00cc96",
          "size": [
           1,
           2.12,
           1,
           1,
           1.7612121212121212,
           1.833939393939394
          ],
          "sizemin": 4,
          "sizemode": "area",
          "sizeref": 0.0425
         },
         "mode": "markers",
         "name": "CHINESE",
         "showlegend": true,
         "subplot": "mapbox",
         "type": "scattermapbox"
        },
        {
         "customdata": [
          [
           0
          ],
          [
           0
          ]
         ],
         "hovertemplate": "<b>%{hovertext}</b><br><br>Category=BURRITO<br>scale=%{marker.size}<br>Latitude=%{lat}<br>Longitude=%{lon}<br>Favorites=%{customdata[0]}<extra></extra>",
         "hovertext": [
          "Chipotle Mexican Grill",
          "Wham! Bam! Burrito!"
         ],
         "lat": [
          40.70990200000004,
          40.718631600000045
         ],
         "legendgroup": "BURRITO",
         "lon": [
          -74.00684309999998,
          -73.9893489000001
         ],
         "marker": {
          "color": "#ab63fa",
          "size": [
           1,
           1
          ],
          "sizemin": 4,
          "sizemode": "area",
          "sizeref": 0.0425
         },
         "mode": "markers",
         "name": "BURRITO",
         "showlegend": true,
         "subplot": "mapbox",
         "type": "scattermapbox"
        },
        {
         "customdata": [
          [
           0
          ],
          [
           0
          ],
          [
           110
          ],
          [
           104
          ],
          [
           0
          ]
         ],
         "hovertemplate": "<b>%{hovertext}</b><br><br>Category=TEA<br>scale=%{marker.size}<br>Latitude=%{lat}<br>Longitude=%{lon}<br>Favorites=%{customdata[0]}<extra></extra>",
         "hovertext": [
          "Chun Yang Tea",
          "Tiger Sugar",
          "Vivi Bubble Tea",
          "Yaya Tea Garden",
          "Yi Fang Taiwan Fruit Tea"
         ],
         "lat": [
          40.71615375000007,
          40.81186953691279,
          40.71614140000009,
          40.71620230000005,
          40.71535244999997
         ],
         "legendgroup": "TEA",
         "lon": [
          -73.99710425000009,
          -73.92971026845636,
          -74.00506479999984,
          -73.9949517000001,
          -73.99826809200702
         ],
         "marker": {
          "color": "#FFA15A",
          "size": [
           1,
           1,
           1.5333333333333332,
           1.5042424242424244,
           1
          ],
          "sizemin": 4,
          "sizemode": "area",
          "sizeref": 0.0425
         },
         "mode": "markers",
         "name": "TEA",
         "showlegend": true,
         "subplot": "mapbox",
         "type": "scattermapbox"
        },
        {
         "customdata": [
          [
           0
          ],
          [
           65
          ],
          [
           71
          ],
          [
           535
          ],
          [
           0
          ],
          [
           0
          ],
          [
           0
          ]
         ],
         "hovertemplate": "<b>%{hovertext}</b><br><br>Category=ITALIAN<br>scale=%{marker.size}<br>Latitude=%{lat}<br>Longitude=%{lon}<br>Favorites=%{customdata[0]}<extra></extra>",
         "hovertext": [
          "Da Gennaro",
          "Epistrophy Cafe",
          "Fiat Café",
          "Parm",
          "Piccola Cucina",
          "Pimp my Pasta",
          "Sant Ambroeus Brookfield"
         ],
         "lat": [
          40.71831680000001,
          40.721184949999966,
          40.72144870000008,
          40.72302824999998,
          40.72464190000001,
          40.71863160000018,
          40.713641350000046
         ],
         "legendgroup": "ITALIAN",
         "lon": [
          -73.99794339999997,
          -73.99536865589333,
          -73.99567409999989,
          -73.99567840577117,
          -74.00304871157456,
          -73.98934889999978,
          -74.01482043211584
         ],
         "marker": {
          "color": "#19d3f3",
          "size": [
           1,
           1.3151515151515152,
           1.3442424242424242,
           3.5939393939393938,
           1,
           1,
           1
          ],
          "sizemin": 4,
          "sizemode": "area",
          "sizeref": 0.0425
         },
         "mode": "markers",
         "name": "ITALIAN",
         "showlegend": true,
         "subplot": "mapbox",
         "type": "scattermapbox"
        },
        {
         "customdata": [
          [
           204
          ],
          [
           97
          ],
          [
           0
          ],
          [
           53
          ],
          [
           131
          ],
          [
           191
          ],
          [
           0
          ],
          [
           171
          ]
         ],
         "hovertemplate": "<b>%{hovertext}</b><br><br>Category=ASIAN<br>scale=%{marker.size}<br>Latitude=%{lat}<br>Longitude=%{lon}<br>Favorites=%{customdata[0]}<extra></extra>",
         "hovertext": [
          "Dim Sum Go Go",
          "Famous Sichuan",
          "Khe-Yo",
          "New Malaysia",
          "Noodle Village 粥麵軒",
          "Nyonya",
          "Shanghai Asian Cuisine",
          "Taiwan Bear House"
         ],
         "lat": [
          40.71324245000004,
          40.71486130000006,
          40.71689074999996,
          40.71577880000021,
          40.71412179999987,
          40.714204799999855,
          40.71588940000014,
          40.71472489999998
         ],
         "legendgroup": "ASIAN",
         "lon": [
          -73.99772785608458,
          -73.9975829321703,
          -74.00859079405743,
          -73.9965978,
          -73.99894719314626,
          -73.96028379999971,
          -73.99725980000025,
          -73.9977838
         ],
         "marker": {
          "color": "#FF6692",
          "size": [
           1.9890909090909092,
           1.4703030303030302,
           1,
           1.2569696969696968,
           1.6351515151515152,
           1.926060606060606,
           1,
           1.829090909090909
          ],
          "sizemin": 4,
          "sizemode": "area",
          "sizeref": 0.0425
         },
         "mode": "markers",
         "name": "ASIAN",
         "showlegend": true,
         "subplot": "mapbox",
         "type": "scattermapbox"
        },
        {
         "customdata": [
          [
           112
          ],
          [
           0
          ],
          [
           109
          ],
          [
           80
          ],
          [
           191
          ]
         ],
         "hovertemplate": "<b>%{hovertext}</b><br><br>Category=DELI<br>scale=%{marker.size}<br>Latitude=%{lat}<br>Longitude=%{lon}<br>Favorites=%{customdata[0]}<extra></extra>",
         "hovertext": [
          "Dimes Deli",
          "Seaport Deli",
          "Spring Street Finest Deli",
          "The Best of New York Food",
          "Tribeca Bagels"
         ],
         "lat": [
          40.71443900000002,
          40.7088076,
          40.72588999999987,
          40.706438799999894,
          40.720923400000125
         ],
         "legendgroup": "DELI",
         "lon": [
          -73.99081269999999,
          -74.0053093999998,
          -74.00929480000008,
          -74.00591870000044,
          -74.00434569999967
         ],
         "marker": {
          "color": "#B6E880",
          "size": [
           1.543030303030303,
           1,
           1.5284848484848483,
           1.387878787878788,
           1.926060606060606
          ],
          "sizemin": 4,
          "sizemode": "area",
          "sizeref": 0.0425
         },
         "mode": "markers",
         "name": "DELI",
         "showlegend": true,
         "subplot": "mapbox",
         "type": "scattermapbox"
        },
        {
         "customdata": [
          [
           309
          ],
          [
           0
          ],
          [
           105
          ],
          [
           0
          ],
          [
           757
          ]
         ],
         "hovertemplate": "<b>%{hovertext}</b><br><br>Category=JUICE BAR<br>scale=%{marker.size}<br>Latitude=%{lat}<br>Longitude=%{lon}<br>Favorites=%{customdata[0]}<extra></extra>",
         "hovertext": [
          "Dr Smood",
          "JOE & THE JUICE",
          "Juice Generation",
          "Pressed Juicery",
          "The Butcher's Daughter"
         ],
         "lat": [
          40.72282755000007,
          40.715976899999994,
          40.70697079999992,
          40.90813250000005,
          40.72071580000009
         ],
         "legendgroup": "JUICE BAR",
         "lon": [
          -74.00140753533213,
          -74.01083610000018,
          -74.00687830000014,
          -73.89688960000025,
          -73.9947850999998
         ],
         "marker": {
          "color": "#FF97FF",
          "size": [
           2.498181818181818,
           1,
           1.509090909090909,
           1,
           4.67030303030303
          ],
          "sizemin": 4,
          "sizemode": "area",
          "sizeref": 0.0425
         },
         "mode": "markers",
         "name": "JUICE BAR",
         "showlegend": true,
         "subplot": "mapbox",
         "type": "scattermapbox"
        },
        {
         "customdata": [
          [
           0
          ],
          [
           0
          ]
         ],
         "hovertemplate": "<b>%{hovertext}</b><br><br>Category=BOBA<br>scale=%{marker.size}<br>Latitude=%{lat}<br>Longitude=%{lon}<br>Favorites=%{customdata[0]}<extra></extra>",
         "hovertext": [
          "Dragon Tea",
          "Gong Cha"
         ],
         "lat": [
          40.708529700000014,
          40.90813250000018
         ],
         "legendgroup": "BOBA",
         "lon": [
          -74.01362744970417,
          -73.89688960000032
         ],
         "marker": {
          "color": "#FECB52",
          "size": [
           1,
           1
          ],
          "sizemin": 4,
          "sizemode": "area",
          "sizeref": 0.0425
         },
         "mode": "markers",
         "name": "BOBA",
         "showlegend": true,
         "subplot": "mapbox",
         "type": "scattermapbox"
        },
        {
         "customdata": [
          [
           0
          ]
         ],
         "hovertemplate": "<b>%{hovertext}</b><br><br>Category=FOOD & BEVERAGE<br>scale=%{marker.size}<br>Latitude=%{lat}<br>Longitude=%{lon}<br>Favorites=%{customdata[0]}<extra></extra>",
         "hovertext": [
          "Duane Park Patisserie"
         ],
         "lat": [
          40.717545499999936
         ],
         "legendgroup": "FOOD & BEVERAGE",
         "lon": [
          -74.01000350193016
         ],
         "marker": {
          "color": "#636efa",
          "size": [
           1
          ],
          "sizemin": 4,
          "sizemode": "area",
          "sizeref": 0.0425
         },
         "mode": "markers",
         "name": "FOOD & BEVERAGE",
         "showlegend": true,
         "subplot": "mapbox",
         "type": "scattermapbox"
        },
        {
         "customdata": [
          [
           83
          ]
         ],
         "hovertemplate": "<b>%{hovertext}</b><br><br>Category=CAFE<br>scale=%{marker.size}<br>Latitude=%{lat}<br>Longitude=%{lon}<br>Favorites=%{customdata[0]}<extra></extra>",
         "hovertext": [
          "Flowers Cafe"
         ],
         "lat": [
          40.716231400000076
         ],
         "legendgroup": "CAFE",
         "lon": [
          -73.98969331114041
         ],
         "marker": {
          "color": "#EF553B",
          "size": [
           1.4024242424242424
          ],
          "sizemin": 4,
          "sizemode": "area",
          "sizeref": 0.0425
         },
         "mode": "markers",
         "name": "CAFE",
         "showlegend": true,
         "subplot": "mapbox",
         "type": "scattermapbox"
        },
        {
         "customdata": [
          [
           99
          ],
          [
           101
          ],
          [
           77
          ],
          [
           0
          ]
         ],
         "hovertemplate": "<b>%{hovertext}</b><br><br>Category=NOODLE<br>scale=%{marker.size}<br>Latitude=%{lat}<br>Longitude=%{lon}<br>Favorites=%{customdata[0]}<extra></extra>",
         "hovertext": [
          "Joe's Shanghai",
          "Send Noods",
          "Tasty's Hand Pulled Noodles",
          "Tonii's Fresh Rice Noodle"
         ],
         "lat": [
          40.71563009999981,
          40.7140385500001,
          40.71419169999992,
          40.71561995000001
         ],
         "legendgroup": "NOODLE",
         "lon": [
          -73.9966853000001,
          -73.99896129292486,
          -73.9978766000002,
          -73.99894418532652
         ],
         "marker": {
          "color": "#00cc96",
          "size": [
           1.48,
           1.4896969696969697,
           1.3733333333333333,
           1
          ],
          "sizemin": 4,
          "sizemode": "area",
          "sizeref": 0.0425
         },
         "mode": "markers",
         "name": "NOODLE",
         "showlegend": true,
         "subplot": "mapbox",
         "type": "scattermapbox"
        },
        {
         "customdata": [
          [
           0
          ]
         ],
         "hovertemplate": "<b>%{hovertext}</b><br><br>Category=SALAD<br>scale=%{marker.size}<br>Latitude=%{lat}<br>Longitude=%{lon}<br>Favorites=%{customdata[0]}<extra></extra>",
         "hovertext": [
          "Just Salad"
         ],
         "lat": [
          40.70666035
         ],
         "legendgroup": "SALAD",
         "lon": [
          -74.00716084229227
         ],
         "marker": {
          "color": "#ab63fa",
          "size": [
           1
          ],
          "sizemin": 4,
          "sizemode": "area",
          "sizeref": 0.0425
         },
         "mode": "markers",
         "name": "SALAD",
         "showlegend": true,
         "subplot": "mapbox",
         "type": "scattermapbox"
        },
        {
         "customdata": [
          [
           0
          ]
         ],
         "hovertemplate": "<b>%{hovertext}</b><br><br>Category=CHICKEN WINGS<br>scale=%{marker.size}<br>Latitude=%{lat}<br>Longitude=%{lon}<br>Favorites=%{customdata[0]}<extra></extra>",
         "hovertext": [
          "Killer Wings"
         ],
         "lat": [
          40.71403855000012
         ],
         "legendgroup": "CHICKEN WINGS",
         "lon": [
          -73.99896129292526
         ],
         "marker": {
          "color": "#FFA15A",
          "size": [
           1
          ],
          "sizemin": 4,
          "sizemode": "area",
          "sizeref": 0.0425
         },
         "mode": "markers",
         "name": "CHICKEN WINGS",
         "showlegend": true,
         "subplot": "mapbox",
         "type": "scattermapbox"
        },
        {
         "customdata": [
          [
           62
          ]
         ],
         "hovertemplate": "<b>%{hovertext}</b><br><br>Category=CANTONESE<br>scale=%{marker.size}<br>Latitude=%{lat}<br>Longitude=%{lon}<br>Favorites=%{customdata[0]}<extra></extra>",
         "hovertext": [
          "Kings Kitchen"
         ],
         "lat": [
          40.713950299999915
         ],
         "legendgroup": "CANTONESE",
         "lon": [
          -73.99367007175843
         ],
         "marker": {
          "color": "#19d3f3",
          "size": [
           1.3006060606060605
          ],
          "sizemin": 4,
          "sizemode": "area",
          "sizeref": 0.0425
         },
         "mode": "markers",
         "name": "CANTONESE",
         "showlegend": true,
         "subplot": "mapbox",
         "type": "scattermapbox"
        },
        {
         "customdata": [
          [
           65
          ],
          [
           0
          ]
         ],
         "hovertemplate": "<b>%{hovertext}</b><br><br>Category=RAMEN<br>scale=%{marker.size}<br>Latitude=%{lat}<br>Longitude=%{lon}<br>Favorites=%{customdata[0]}<extra></extra>",
         "hovertext": [
          "Kuu Ramen",
          "Mr. Taka"
         ],
         "lat": [
          40.70976150000003,
          40.72127799999999
         ],
         "legendgroup": "RAMEN",
         "lon": [
          -74.00889190000026,
          -73.9890274999999
         ],
         "marker": {
          "color": "#FF6692",
          "size": [
           1.3151515151515152,
           1
          ],
          "sizemin": 4,
          "sizemode": "area",
          "sizeref": 0.0425
         },
         "mode": "markers",
         "name": "RAMEN",
         "showlegend": true,
         "subplot": "mapbox",
         "type": "scattermapbox"
        },
        {
         "customdata": [
          [
           0
          ],
          [
           117
          ],
          [
           0
          ]
         ],
         "hovertemplate": "<b>%{hovertext}</b><br><br>Category=FRENCH<br>scale=%{marker.size}<br>Latitude=%{lat}<br>Longitude=%{lon}<br>Favorites=%{customdata[0]}<extra></extra>",
         "hovertext": [
          "La Parisienne",
          "Ladurée",
          "Épicerie Boulud"
         ],
         "lat": [
          40.70960899999996,
          40.72431885,
          40.71125070000002
         ],
         "legendgroup": "FRENCH",
         "lon": [
          -74.00933439999989,
          -74.00243589270376,
          -74.01208019999996
         ],
         "marker": {
          "color": "#B6E880",
          "size": [
           1,
           1.5672727272727274,
           1
          ],
          "sizemin": 4,
          "sizemode": "area",
          "sizeref": 0.0425
         },
         "mode": "markers",
         "name": "FRENCH",
         "showlegend": true,
         "subplot": "mapbox",
         "type": "scattermapbox"
        },
        {
         "customdata": [
          [
           641
          ]
         ],
         "hovertemplate": "<b>%{hovertext}</b><br><br>Category=GLUTEN-FREE<br>scale=%{marker.size}<br>Latitude=%{lat}<br>Longitude=%{lon}<br>Favorites=%{customdata[0]}<extra></extra>",
         "hovertext": [
          "Le Botaniste Organic - Healthy - Plant based"
         ],
         "lat": [
          40.715103900000024
         ],
         "legendgroup": "GLUTEN-FREE",
         "lon": [
          -73.96248789999997
         ],
         "marker": {
          "color": "#FF97FF",
          "size": [
           4.1078787878787875
          ],
          "sizemin": 4,
          "sizemode": "area",
          "sizeref": 0.0425
         },
         "mode": "markers",
         "name": "GLUTEN-FREE",
         "showlegend": true,
         "subplot": "mapbox",
         "type": "scattermapbox"
        },
        {
         "customdata": [
          [
           0
          ]
         ],
         "hovertemplate": "<b>%{hovertext}</b><br><br>Category=BBQ<br>scale=%{marker.size}<br>Latitude=%{lat}<br>Longitude=%{lon}<br>Favorites=%{customdata[0]}<extra></extra>",
         "hovertext": [
          "Mighty Quinn's BBQ"
         ],
         "lat": [
          40.71227204999998
         ],
         "legendgroup": "BBQ",
         "lon": [
          -74.01543606304266
         ],
         "marker": {
          "color": "#FECB52",
          "size": [
           1
          ],
          "sizemin": 4,
          "sizemode": "area",
          "sizeref": 0.0425
         },
         "mode": "markers",
         "name": "BBQ",
         "showlegend": true,
         "subplot": "mapbox",
         "type": "scattermapbox"
        },
        {
         "customdata": [
          [
           0
          ]
         ],
         "hovertemplate": "<b>%{hovertext}</b><br><br>Category=FRIED CHICKEN<br>scale=%{marker.size}<br>Latitude=%{lat}<br>Longitude=%{lon}<br>Favorites=%{customdata[0]}<extra></extra>",
         "hovertext": [
          "Miss Mazy's Amazin' Chicken"
         ],
         "lat": [
          40.70920804999997
         ],
         "legendgroup": "FRIED CHICKEN",
         "lon": [
          -74.0136683922442
         ],
         "marker": {
          "color": "#636efa",
          "size": [
           1
          ],
          "sizemin": 4,
          "sizemode": "area",
          "sizeref": 0.0425
         },
         "mode": "markers",
         "name": "FRIED CHICKEN",
         "showlegend": true,
         "subplot": "mapbox",
         "type": "scattermapbox"
        },
        {
         "customdata": [
          [
           62
          ]
         ],
         "hovertemplate": "<b>%{hovertext}</b><br><br>Category=CONVENIENCE<br>scale=%{marker.size}<br>Latitude=%{lat}<br>Longitude=%{lon}<br>Favorites=%{customdata[0]}<extra></extra>",
         "hovertext": [
          "One's Convenience & Smoke Shop"
         ],
         "lat": [
          40.73412375000037
         ],
         "legendgroup": "CONVENIENCE",
         "lon": [
          -73.98093487175143
         ],
         "marker": {
          "color": "#EF553B",
          "size": [
           1.3006060606060605
          ],
          "sizemin": 4,
          "sizemode": "area",
          "sizeref": 0.0425
         },
         "mode": "markers",
         "name": "CONVENIENCE",
         "showlegend": true,
         "subplot": "mapbox",
         "type": "scattermapbox"
        },
        {
         "customdata": [
          [
           0
          ]
         ],
         "hovertemplate": "<b>%{hovertext}</b><br><br>Category=STEAK<br>scale=%{marker.size}<br>Latitude=%{lat}<br>Longitude=%{lon}<br>Favorites=%{customdata[0]}<extra></extra>",
         "hovertext": [
          "Palm Restaurant"
         ],
         "lat": [
          40.59794400000005
         ],
         "legendgroup": "STEAK",
         "lon": [
          -73.97163
         ],
         "marker": {
          "color": "#00cc96",
          "size": [
           1
          ],
          "sizemin": 4,
          "sizemode": "area",
          "sizeref": 0.0425
         },
         "mode": "markers",
         "name": "STEAK",
         "showlegend": true,
         "subplot": "mapbox",
         "type": "scattermapbox"
        },
        {
         "customdata": [
          [
           70
          ],
          [
           0
          ]
         ],
         "hovertemplate": "<b>%{hovertext}</b><br><br>Category=PHO<br>scale=%{marker.size}<br>Latitude=%{lat}<br>Longitude=%{lon}<br>Favorites=%{customdata[0]}<extra></extra>",
         "hovertext": [
          "Pho Grand",
          "Pho Time !"
         ],
         "lat": [
          40.71771059999994,
          40.72210135
         ],
         "legendgroup": "PHO",
         "lon": [
          -73.99276319999991,
          -73.99766773251476
         ],
         "marker": {
          "color": "#ab63fa",
          "size": [
           1.3393939393939394,
           1
          ],
          "sizemin": 4,
          "sizemode": "area",
          "sizeref": 0.0425
         },
         "mode": "markers",
         "name": "PHO",
         "showlegend": true,
         "subplot": "mapbox",
         "type": "scattermapbox"
        },
        {
         "customdata": [
          [
           0
          ]
         ],
         "hovertemplate": "<b>%{hovertext}</b><br><br>Category=SEAFOOD<br>scale=%{marker.size}<br>Latitude=%{lat}<br>Longitude=%{lon}<br>Favorites=%{customdata[0]}<extra></extra>",
         "hovertext": [
          "Ping's Seafood"
         ],
         "lat": [
          40.714411650000045
         ],
         "legendgroup": "SEAFOOD",
         "lon": [
          -73.99860771171896
         ],
         "marker": {
          "color": "#FFA15A",
          "size": [
           1
          ],
          "sizemin": 4,
          "sizemode": "area",
          "sizeref": 0.0425
         },
         "mode": "markers",
         "name": "SEAFOOD",
         "showlegend": true,
         "subplot": "mapbox",
         "type": "scattermapbox"
        },
        {
         "customdata": [
          [
           341
          ]
         ],
         "hovertemplate": "<b>%{hovertext}</b><br><br>Category=ACAI<br>scale=%{marker.size}<br>Latitude=%{lat}<br>Longitude=%{lon}<br>Favorites=%{customdata[0]}<extra></extra>",
         "hovertext": [
          "Playa Bowls"
         ],
         "lat": [
          40.729453250000006
         ],
         "legendgroup": "ACAI",
         "lon": [
          -74.0006674093271
         ],
         "marker": {
          "color": "#19d3f3",
          "size": [
           2.6533333333333333
          ],
          "sizemin": 4,
          "sizemode": "area",
          "sizeref": 0.0425
         },
         "mode": "markers",
         "name": "ACAI",
         "showlegend": true,
         "subplot": "mapbox",
         "type": "scattermapbox"
        },
        {
         "customdata": [
          [
           0
          ]
         ],
         "hovertemplate": "<b>%{hovertext}</b><br><br>Category=TURKISH<br>scale=%{marker.size}<br>Latitude=%{lat}<br>Longitude=%{lon}<br>Favorites=%{customdata[0]}<extra></extra>",
         "hovertext": [
          "Soup & Gyro Turkish Mediterranean Restaurant"
         ],
         "lat": [
          40.71570972727281
         ],
         "legendgroup": "TURKISH",
         "lon": [
          -74.00745118181831
         ],
         "marker": {
          "color": "#FF6692",
          "size": [
           1
          ],
          "sizemin": 4,
          "sizemode": "area",
          "sizeref": 0.0425
         },
         "mode": "markers",
         "name": "TURKISH",
         "showlegend": true,
         "subplot": "mapbox",
         "type": "scattermapbox"
        },
        {
         "customdata": [
          [
           0
          ]
         ],
         "hovertemplate": "<b>%{hovertext}</b><br><br>Category=JAPANESE<br>scale=%{marker.size}<br>Latitude=%{lat}<br>Longitude=%{lon}<br>Favorites=%{customdata[0]}<extra></extra>",
         "hovertext": [
          "Sushi & Co"
         ],
         "lat": [
          40.709432000000014
         ],
         "legendgroup": "JAPANESE",
         "lon": [
          -74.0086488333334
         ],
         "marker": {
          "color": "#B6E880",
          "size": [
           1
          ],
          "sizemin": 4,
          "sizemode": "area",
          "sizeref": 0.0425
         },
         "mode": "markers",
         "name": "JAPANESE",
         "showlegend": true,
         "subplot": "mapbox",
         "type": "scattermapbox"
        },
        {
         "customdata": [
          [
           154
          ]
         ],
         "hovertemplate": "<b>%{hovertext}</b><br><br>Category=ISRAELI<br>scale=%{marker.size}<br>Latitude=%{lat}<br>Longitude=%{lon}<br>Favorites=%{customdata[0]}<extra></extra>",
         "hovertext": [
          "Twelve Chairs"
         ],
         "lat": [
          40.727550099999945
         ],
         "legendgroup": "ISRAELI",
         "lon": [
          -74.00240759999998
         ],
         "marker": {
          "color": "#FF97FF",
          "size": [
           1.7466666666666666
          ],
          "sizemin": 4,
          "sizemode": "area",
          "sizeref": 0.0425
         },
         "mode": "markers",
         "name": "ISRAELI",
         "showlegend": true,
         "subplot": "mapbox",
         "type": "scattermapbox"
        }
       ],
       "layout": {
        "height": 300,
        "legend": {
         "itemsizing": "constant",
         "title": {
          "text": "Category"
         },
         "tracegroupgap": 0
        },
        "mapbox": {
         "accesstoken": "pk.eyJ1IjoiYmJydXNzbzExNSIsImEiOiJja29qY2x4Z2wwMnk3MnBvNzRldXo2a2J2In0.6zgZNfkLxe6DylEBbMglZA",
         "center": {
          "lat": 40.71905323388822,
          "lon": -73.99606927211033
         },
         "domain": {
          "x": [
           0,
           1
          ],
          "y": [
           0,
           1
          ]
         },
         "style": "dark",
         "zoom": 10
        },
        "margin": {
         "b": 0,
         "l": 0,
         "r": 0,
         "t": 0
        },
        "template": {
         "data": {
          "bar": [
           {
            "error_x": {
             "color": "#2a3f5f"
            },
            "error_y": {
             "color": "#2a3f5f"
            },
            "marker": {
             "line": {
              "color": "#E5ECF6",
              "width": 0.5
             }
            },
            "type": "bar"
           }
          ],
          "barpolar": [
           {
            "marker": {
             "line": {
              "color": "#E5ECF6",
              "width": 0.5
             }
            },
            "type": "barpolar"
           }
          ],
          "carpet": [
           {
            "aaxis": {
             "endlinecolor": "#2a3f5f",
             "gridcolor": "white",
             "linecolor": "white",
             "minorgridcolor": "white",
             "startlinecolor": "#2a3f5f"
            },
            "baxis": {
             "endlinecolor": "#2a3f5f",
             "gridcolor": "white",
             "linecolor": "white",
             "minorgridcolor": "white",
             "startlinecolor": "#2a3f5f"
            },
            "type": "carpet"
           }
          ],
          "choropleth": [
           {
            "colorbar": {
             "outlinewidth": 0,
             "ticks": ""
            },
            "type": "choropleth"
           }
          ],
          "contour": [
           {
            "colorbar": {
             "outlinewidth": 0,
             "ticks": ""
            },
            "colorscale": [
             [
              0,
              "#0d0887"
             ],
             [
              0.1111111111111111,
              "#46039f"
             ],
             [
              0.2222222222222222,
              "#7201a8"
             ],
             [
              0.3333333333333333,
              "#9c179e"
             ],
             [
              0.4444444444444444,
              "#bd3786"
             ],
             [
              0.5555555555555556,
              "#d8576b"
             ],
             [
              0.6666666666666666,
              "#ed7953"
             ],
             [
              0.7777777777777778,
              "#fb9f3a"
             ],
             [
              0.8888888888888888,
              "#fdca26"
             ],
             [
              1,
              "#f0f921"
             ]
            ],
            "type": "contour"
           }
          ],
          "contourcarpet": [
           {
            "colorbar": {
             "outlinewidth": 0,
             "ticks": ""
            },
            "type": "contourcarpet"
           }
          ],
          "heatmap": [
           {
            "colorbar": {
             "outlinewidth": 0,
             "ticks": ""
            },
            "colorscale": [
             [
              0,
              "#0d0887"
             ],
             [
              0.1111111111111111,
              "#46039f"
             ],
             [
              0.2222222222222222,
              "#7201a8"
             ],
             [
              0.3333333333333333,
              "#9c179e"
             ],
             [
              0.4444444444444444,
              "#bd3786"
             ],
             [
              0.5555555555555556,
              "#d8576b"
             ],
             [
              0.6666666666666666,
              "#ed7953"
             ],
             [
              0.7777777777777778,
              "#fb9f3a"
             ],
             [
              0.8888888888888888,
              "#fdca26"
             ],
             [
              1,
              "#f0f921"
             ]
            ],
            "type": "heatmap"
           }
          ],
          "heatmapgl": [
           {
            "colorbar": {
             "outlinewidth": 0,
             "ticks": ""
            },
            "colorscale": [
             [
              0,
              "#0d0887"
             ],
             [
              0.1111111111111111,
              "#46039f"
             ],
             [
              0.2222222222222222,
              "#7201a8"
             ],
             [
              0.3333333333333333,
              "#9c179e"
             ],
             [
              0.4444444444444444,
              "#bd3786"
             ],
             [
              0.5555555555555556,
              "#d8576b"
             ],
             [
              0.6666666666666666,
              "#ed7953"
             ],
             [
              0.7777777777777778,
              "#fb9f3a"
             ],
             [
              0.8888888888888888,
              "#fdca26"
             ],
             [
              1,
              "#f0f921"
             ]
            ],
            "type": "heatmapgl"
           }
          ],
          "histogram": [
           {
            "marker": {
             "colorbar": {
              "outlinewidth": 0,
              "ticks": ""
             }
            },
            "type": "histogram"
           }
          ],
          "histogram2d": [
           {
            "colorbar": {
             "outlinewidth": 0,
             "ticks": ""
            },
            "colorscale": [
             [
              0,
              "#0d0887"
             ],
             [
              0.1111111111111111,
              "#46039f"
             ],
             [
              0.2222222222222222,
              "#7201a8"
             ],
             [
              0.3333333333333333,
              "#9c179e"
             ],
             [
              0.4444444444444444,
              "#bd3786"
             ],
             [
              0.5555555555555556,
              "#d8576b"
             ],
             [
              0.6666666666666666,
              "#ed7953"
             ],
             [
              0.7777777777777778,
              "#fb9f3a"
             ],
             [
              0.8888888888888888,
              "#fdca26"
             ],
             [
              1,
              "#f0f921"
             ]
            ],
            "type": "histogram2d"
           }
          ],
          "histogram2dcontour": [
           {
            "colorbar": {
             "outlinewidth": 0,
             "ticks": ""
            },
            "colorscale": [
             [
              0,
              "#0d0887"
             ],
             [
              0.1111111111111111,
              "#46039f"
             ],
             [
              0.2222222222222222,
              "#7201a8"
             ],
             [
              0.3333333333333333,
              "#9c179e"
             ],
             [
              0.4444444444444444,
              "#bd3786"
             ],
             [
              0.5555555555555556,
              "#d8576b"
             ],
             [
              0.6666666666666666,
              "#ed7953"
             ],
             [
              0.7777777777777778,
              "#fb9f3a"
             ],
             [
              0.8888888888888888,
              "#fdca26"
             ],
             [
              1,
              "#f0f921"
             ]
            ],
            "type": "histogram2dcontour"
           }
          ],
          "mesh3d": [
           {
            "colorbar": {
             "outlinewidth": 0,
             "ticks": ""
            },
            "type": "mesh3d"
           }
          ],
          "parcoords": [
           {
            "line": {
             "colorbar": {
              "outlinewidth": 0,
              "ticks": ""
             }
            },
            "type": "parcoords"
           }
          ],
          "pie": [
           {
            "automargin": true,
            "type": "pie"
           }
          ],
          "scatter": [
           {
            "marker": {
             "colorbar": {
              "outlinewidth": 0,
              "ticks": ""
             }
            },
            "type": "scatter"
           }
          ],
          "scatter3d": [
           {
            "line": {
             "colorbar": {
              "outlinewidth": 0,
              "ticks": ""
             }
            },
            "marker": {
             "colorbar": {
              "outlinewidth": 0,
              "ticks": ""
             }
            },
            "type": "scatter3d"
           }
          ],
          "scattercarpet": [
           {
            "marker": {
             "colorbar": {
              "outlinewidth": 0,
              "ticks": ""
             }
            },
            "type": "scattercarpet"
           }
          ],
          "scattergeo": [
           {
            "marker": {
             "colorbar": {
              "outlinewidth": 0,
              "ticks": ""
             }
            },
            "type": "scattergeo"
           }
          ],
          "scattergl": [
           {
            "marker": {
             "colorbar": {
              "outlinewidth": 0,
              "ticks": ""
             }
            },
            "type": "scattergl"
           }
          ],
          "scattermapbox": [
           {
            "marker": {
             "colorbar": {
              "outlinewidth": 0,
              "ticks": ""
             }
            },
            "type": "scattermapbox"
           }
          ],
          "scatterpolar": [
           {
            "marker": {
             "colorbar": {
              "outlinewidth": 0,
              "ticks": ""
             }
            },
            "type": "scatterpolar"
           }
          ],
          "scatterpolargl": [
           {
            "marker": {
             "colorbar": {
              "outlinewidth": 0,
              "ticks": ""
             }
            },
            "type": "scatterpolargl"
           }
          ],
          "scatterternary": [
           {
            "marker": {
             "colorbar": {
              "outlinewidth": 0,
              "ticks": ""
             }
            },
            "type": "scatterternary"
           }
          ],
          "surface": [
           {
            "colorbar": {
             "outlinewidth": 0,
             "ticks": ""
            },
            "colorscale": [
             [
              0,
              "#0d0887"
             ],
             [
              0.1111111111111111,
              "#46039f"
             ],
             [
              0.2222222222222222,
              "#7201a8"
             ],
             [
              0.3333333333333333,
              "#9c179e"
             ],
             [
              0.4444444444444444,
              "#bd3786"
             ],
             [
              0.5555555555555556,
              "#d8576b"
             ],
             [
              0.6666666666666666,
              "#ed7953"
             ],
             [
              0.7777777777777778,
              "#fb9f3a"
             ],
             [
              0.8888888888888888,
              "#fdca26"
             ],
             [
              1,
              "#f0f921"
             ]
            ],
            "type": "surface"
           }
          ],
          "table": [
           {
            "cells": {
             "fill": {
              "color": "#EBF0F8"
             },
             "line": {
              "color": "white"
             }
            },
            "header": {
             "fill": {
              "color": "#C8D4E3"
             },
             "line": {
              "color": "white"
             }
            },
            "type": "table"
           }
          ]
         },
         "layout": {
          "annotationdefaults": {
           "arrowcolor": "#2a3f5f",
           "arrowhead": 0,
           "arrowwidth": 1
          },
          "autotypenumbers": "strict",
          "coloraxis": {
           "colorbar": {
            "outlinewidth": 0,
            "ticks": ""
           }
          },
          "colorscale": {
           "diverging": [
            [
             0,
             "#8e0152"
            ],
            [
             0.1,
             "#c51b7d"
            ],
            [
             0.2,
             "#de77ae"
            ],
            [
             0.3,
             "#f1b6da"
            ],
            [
             0.4,
             "#fde0ef"
            ],
            [
             0.5,
             "#f7f7f7"
            ],
            [
             0.6,
             "#e6f5d0"
            ],
            [
             0.7,
             "#b8e186"
            ],
            [
             0.8,
             "#7fbc41"
            ],
            [
             0.9,
             "#4d9221"
            ],
            [
             1,
             "#276419"
            ]
           ],
           "sequential": [
            [
             0,
             "#0d0887"
            ],
            [
             0.1111111111111111,
             "#46039f"
            ],
            [
             0.2222222222222222,
             "#7201a8"
            ],
            [
             0.3333333333333333,
             "#9c179e"
            ],
            [
             0.4444444444444444,
             "#bd3786"
            ],
            [
             0.5555555555555556,
             "#d8576b"
            ],
            [
             0.6666666666666666,
             "#ed7953"
            ],
            [
             0.7777777777777778,
             "#fb9f3a"
            ],
            [
             0.8888888888888888,
             "#fdca26"
            ],
            [
             1,
             "#f0f921"
            ]
           ],
           "sequentialminus": [
            [
             0,
             "#0d0887"
            ],
            [
             0.1111111111111111,
             "#46039f"
            ],
            [
             0.2222222222222222,
             "#7201a8"
            ],
            [
             0.3333333333333333,
             "#9c179e"
            ],
            [
             0.4444444444444444,
             "#bd3786"
            ],
            [
             0.5555555555555556,
             "#d8576b"
            ],
            [
             0.6666666666666666,
             "#ed7953"
            ],
            [
             0.7777777777777778,
             "#fb9f3a"
            ],
            [
             0.8888888888888888,
             "#fdca26"
            ],
            [
             1,
             "#f0f921"
            ]
           ]
          },
          "colorway": [
           "#636efa",
           "#EF553B",
           "#00cc96",
           "#ab63fa",
           "#FFA15A",
           "#19d3f3",
           "#FF6692",
           "#B6E880",
           "#FF97FF",
           "#FECB52"
          ],
          "font": {
           "color": "#2a3f5f"
          },
          "geo": {
           "bgcolor": "white",
           "lakecolor": "white",
           "landcolor": "#E5ECF6",
           "showlakes": true,
           "showland": true,
           "subunitcolor": "white"
          },
          "hoverlabel": {
           "align": "left"
          },
          "hovermode": "closest",
          "mapbox": {
           "style": "light"
          },
          "paper_bgcolor": "white",
          "plot_bgcolor": "#E5ECF6",
          "polar": {
           "angularaxis": {
            "gridcolor": "white",
            "linecolor": "white",
            "ticks": ""
           },
           "bgcolor": "#E5ECF6",
           "radialaxis": {
            "gridcolor": "white",
            "linecolor": "white",
            "ticks": ""
           }
          },
          "scene": {
           "xaxis": {
            "backgroundcolor": "#E5ECF6",
            "gridcolor": "white",
            "gridwidth": 2,
            "linecolor": "white",
            "showbackground": true,
            "ticks": "",
            "zerolinecolor": "white"
           },
           "yaxis": {
            "backgroundcolor": "#E5ECF6",
            "gridcolor": "white",
            "gridwidth": 2,
            "linecolor": "white",
            "showbackground": true,
            "ticks": "",
            "zerolinecolor": "white"
           },
           "zaxis": {
            "backgroundcolor": "#E5ECF6",
            "gridcolor": "white",
            "gridwidth": 2,
            "linecolor": "white",
            "showbackground": true,
            "ticks": "",
            "zerolinecolor": "white"
           }
          },
          "shapedefaults": {
           "line": {
            "color": "#2a3f5f"
           }
          },
          "ternary": {
           "aaxis": {
            "gridcolor": "white",
            "linecolor": "white",
            "ticks": ""
           },
           "baxis": {
            "gridcolor": "white",
            "linecolor": "white",
            "ticks": ""
           },
           "bgcolor": "#E5ECF6",
           "caxis": {
            "gridcolor": "white",
            "linecolor": "white",
            "ticks": ""
           }
          },
          "title": {
           "x": 0.05
          },
          "xaxis": {
           "automargin": true,
           "gridcolor": "white",
           "linecolor": "white",
           "ticks": "",
           "title": {
            "standoff": 15
           },
           "zerolinecolor": "white",
           "zerolinewidth": 2
          },
          "yaxis": {
           "automargin": true,
           "gridcolor": "white",
           "linecolor": "white",
           "ticks": "",
           "title": {
            "standoff": 15
           },
           "zerolinecolor": "white",
           "zerolinewidth": 2
          }
         }
        }
       }
      },
      "text/html": [
       "<div>                            <div id=\"95d0a176-1a25-4473-ad97-02a3b6da623f\" class=\"plotly-graph-div\" style=\"height:300px; width:100%;\"></div>            <script type=\"text/javascript\">                require([\"plotly\"], function(Plotly) {                    window.PLOTLYENV=window.PLOTLYENV || {};                                    if (document.getElementById(\"95d0a176-1a25-4473-ad97-02a3b6da623f\")) {                    Plotly.newPlot(                        \"95d0a176-1a25-4473-ad97-02a3b6da623f\",                        [{\"customdata\": [[57.0], [67.0], [79.0]], \"hovertemplate\": \"<b>%{hovertext}</b><br><br>Category=INDIAN<br>scale=%{marker.size}<br>Latitude=%{lat}<br>Longitude=%{lon}<br>Favorites=%{customdata[0]}<extra></extra>\", \"hovertext\": [\"Aahar Indian Cuisine\", \"Bombay's Indian Restaurant\", \"Hampton Chutney Co.\"], \"lat\": [40.71330820000002, 40.70343895000009, 40.7150004], \"legendgroup\": \"INDIAN\", \"lon\": [-74.00804160000006, -74.0110852211886, -73.96204710485655], \"marker\": {\"color\": \"#636efa\", \"size\": [1.2763636363636364, 1.3248484848484847, 1.383030303030303], \"sizemin\": 4, \"sizemode\": \"area\", \"sizeref\": 0.0425}, \"mode\": \"markers\", \"name\": \"INDIAN\", \"showlegend\": true, \"subplot\": \"mapbox\", \"type\": \"scattermapbox\"}, {\"customdata\": [[0.0], [125.0], [54.0]], \"hovertemplate\": \"<b>%{hovertext}</b><br><br>Category=MEXICAN<br>scale=%{marker.size}<br>Latitude=%{lat}<br>Longitude=%{lon}<br>Favorites=%{customdata[0]}<extra></extra>\", \"hovertext\": [\"Al Horno Lean Mexican Kitchen\", \"Dos Toros Taqueria\", \"Tacombi\"], \"lat\": [40.70470170000007, 40.70697079999994, 40.6250837], \"legendgroup\": \"MEXICAN\", \"lon\": [-74.0088567000001, -74.00687829999988, -74.07772179999998], \"marker\": {\"color\": \"#EF553B\", \"size\": [1.0, 1.606060606060606, 1.2618181818181817], \"sizemin\": 4, \"sizemode\": \"area\", \"sizeref\": 0.0425}, \"mode\": \"markers\", \"name\": \"MEXICAN\", \"showlegend\": true, \"subplot\": \"mapbox\", \"type\": \"scattermapbox\"}, {\"customdata\": [[159.0], [0.0], [202.0], [95.0], [0.0], [308.0]], \"hovertemplate\": \"<b>%{hovertext}</b><br><br>Category=GROCERY<br>scale=%{marker.size}<br>Latitude=%{lat}<br>Longitude=%{lon}<br>Favorites=%{customdata[0]}<extra></extra>\", \"hovertext\": [\"Ali Baba Organic Marketplace\", \"Corner Grocers\", \"East Village Beer & Grocery\", \"GreenStar Grocery\", \"Rivington Deli & Grocery\", \"Village Farm & Grocery\"], \"lat\": [40.7137186, 40.71995990000074, 40.72635689999926, 40.718631599999945, 40.720101624998975, 40.729226299999254], \"legendgroup\": \"GROCERY\", \"lon\": [-73.9987780000001, -73.98914309999967, -73.98952329999909, -73.98934889999305, -73.9891033125012, -73.98699760000198], \"marker\": {\"color\": \"#00cc96\", \"size\": [1.770909090909091, 1.0, 1.9793939393939395, 1.4606060606060607, 1.0, 2.493333333333333], \"sizemin\": 4, \"sizemode\": \"area\", \"sizeref\": 0.0425}, \"mode\": \"markers\", \"name\": \"GROCERY\", \"showlegend\": true, \"subplot\": \"mapbox\", \"type\": \"scattermapbox\"}, {\"customdata\": [[102.0], [173.0], [0.0], [0.0]], \"hovertemplate\": \"<b>%{hovertext}</b><br><br>Category=DESSERT<br>scale=%{marker.size}<br>Latitude=%{lat}<br>Longitude=%{lon}<br>Favorites=%{customdata[0]}<extra></extra>\", \"hovertext\": [\"Alimama Tea\", \"Eileen's Special Cheesecake\", \"Mango Mango\", \"Sweet Rehab\"], \"lat\": [40.71580100000004, 40.72158510000007, null, 40.726725349999974], \"legendgroup\": \"DESSERT\", \"lon\": [-73.99924689999993, -73.99723269999974, null, -74.00194414921077], \"marker\": {\"color\": \"#ab63fa\", \"size\": [1.4945454545454546, 1.8387878787878789, 1.0, 1.0], \"sizemin\": 4, \"sizemode\": \"area\", \"sizeref\": 0.0425}, \"mode\": \"markers\", \"name\": \"DESSERT\", \"showlegend\": true, \"subplot\": \"mapbox\", \"type\": \"scattermapbox\"}, {\"customdata\": [[0.0], [53.0], [60.0]], \"hovertemplate\": \"<b>%{hovertext}</b><br><br>Category=MEDITERRANEAN<br>scale=%{marker.size}<br>Latitude=%{lat}<br>Longitude=%{lon}<br>Favorites=%{customdata[0]}<extra></extra>\", \"hovertext\": [\"Antique Garage Soho\", \"Nish Nush\", \"Nish N\\u016bsh\"], \"lat\": [40.72148119999998, 40.70946529999996, 40.71564410000004], \"legendgroup\": \"MEDITERRANEAN\", \"lon\": [-74.00137279999993, -74.00800561369974, -74.00775869999994], \"marker\": {\"color\": \"#FFA15A\", \"size\": [1.0, 1.2569696969696968, 1.290909090909091], \"sizemin\": 4, \"sizemode\": \"area\", \"sizeref\": 0.0425}, \"mode\": \"markers\", \"name\": \"MEDITERRANEAN\", \"showlegend\": true, \"subplot\": \"mapbox\", \"type\": \"scattermapbox\"}, {\"customdata\": [[0.0], [0.0], [0.0], [0.0], [0.0], [0.0], [0.0], [0.0], [0.0], [928.0], [84.0]], \"hovertemplate\": \"<b>%{hovertext}</b><br><br>Category=THAI<br>scale=%{marker.size}<br>Latitude=%{lat}<br>Longitude=%{lon}<br>Favorites=%{customdata[0]}<extra></extra>\", \"hovertext\": [\"Appethaize\", \"Aroy Dee Thai Cuisine\", \"Fire Ass Thai\", \"Lan Larb Soho\", \"Pad Thai Snob\", \"PadThaiGuy\", \"Panang Panang! Thai Curry\", \"THAI THAI THAI\", \"Thai Ai Ai\", \"Thai Villa\", \"Wok Wok\"], \"lat\": [40.71637360000012, 40.70976150000006, 40.71403855000021, 40.71994699999986, 40.71403854999986, 40.71403855000017, 40.71403855000008, 40.7140385500002, 40.71403855000012, 40.73898090000008, 40.71403855000092], \"legendgroup\": \"THAI\", \"lon\": [-73.99990489999989, -74.00889190000038, -73.99896129292502, -73.99859250000007, -73.99896129292536, -73.99896129292513, -73.99896129292536, -73.99896129292488, -73.99896129292526, -73.99070589999994, -73.9989612929235], \"marker\": {\"color\": \"#19d3f3\", \"size\": [1.0, 1.0, 1.0, 1.0, 1.0, 1.0, 1.0, 1.0, 1.0, 5.499393939393939, 1.4072727272727272], \"sizemin\": 4, \"sizemode\": \"area\", \"sizeref\": 0.0425}, \"mode\": \"markers\", \"name\": \"THAI\", \"showlegend\": true, \"subplot\": \"mapbox\", \"type\": \"scattermapbox\"}, {\"customdata\": [[52.0], [587.0]], \"hovertemplate\": \"<b>%{hovertext}</b><br><br>Category=LATIN AMERICAN<br>scale=%{marker.size}<br>Latitude=%{lat}<br>Longitude=%{lon}<br>Favorites=%{customdata[0]}<extra></extra>\", \"hovertext\": [\"Areppas\", \"Empanada Mama\"], \"lat\": [40.72184980000007, 40.71876654999999], \"legendgroup\": \"LATIN AMERICAN\", \"lon\": [-73.9971334000001, -73.99099874939843], \"marker\": {\"color\": \"#FF6692\", \"size\": [1.2521212121212122, 3.846060606060606], \"sizemin\": 4, \"sizemode\": \"area\", \"sizeref\": 0.0425}, \"mode\": \"markers\", \"name\": \"LATIN AMERICAN\", \"showlegend\": true, \"subplot\": \"mapbox\", \"type\": \"scattermapbox\"}, {\"customdata\": [[0.0], [72.0], [61.0], [57.0], [0.0], [0.0], [53.0], [0.0], [617.0], [276.0], [516.0]], \"hovertemplate\": \"<b>%{hovertext}</b><br><br>Category=AMERICAN<br>scale=%{marker.size}<br>Latitude=%{lat}<br>Longitude=%{lon}<br>Favorites=%{customdata[0]}<extra></extra>\", \"hovertext\": [\"B*tch Don't Grill My Cheese\", \"Belle Reve\", \"Dig\", \"Gee Whiz Diner\", \"Manhattan Proper\", \"Melt Shop\", \"Mudville Restaurant & Tap House\", \"Pasta Glory\", \"Springbone Kitchen\", \"Westville - Hudson\", \"Westville - West\"], \"lat\": [40.70486119999992, 40.71950495000006, 40.70181469999994, 40.71597690000043, 40.71318055000003, 40.70990200000004, 40.71517575000004, 40.71016000000006, 40.677837000000004, 40.72712050000005, 40.73388209999995], \"legendgroup\": \"AMERICAN\", \"lon\": [-74.00955989999979, -74.00409816786005, -73.94348129999992, -74.01083609999944, -74.00800608583496, -74.00684309999998, -74.00893411922428, -74.00575169999985, -73.99391999999992, -74.00753559999998, -74.00414915426035], \"marker\": {\"color\": \"#B6E880\", \"size\": [1.0, 1.3490909090909091, 1.2957575757575759, 1.2763636363636364, 1.0, 1.0, 1.2569696969696968, 1.0, 3.9915151515151517, 2.338181818181818, 3.501818181818182], \"sizemin\": 4, \"sizemode\": \"area\", \"sizeref\": 0.0425}, \"mode\": \"markers\", \"name\": \"AMERICAN\", \"showlegend\": true, \"subplot\": \"mapbox\", \"type\": \"scattermapbox\"}, {\"customdata\": [[0.0], [85.0], [280.0], [0.0], [143.0]], \"hovertemplate\": \"<b>%{hovertext}</b><br><br>Category=BAKERY<br>scale=%{marker.size}<br>Latitude=%{lat}<br>Longitude=%{lon}<br>Favorites=%{customdata[0]}<extra></extra>\", \"hovertext\": [\"Baked By Melissa\", \"Cinnabon\", \"Erin Mckenna's Bakery\", \"Pi Bakerie & Eatery\", \"Ring Ding Bar\"], \"lat\": [40.70974490000001, 40.709694200000015, 40.71812675, 40.72364724999992, 40.717545500000014], \"legendgroup\": \"BAKERY\", \"lon\": [-74.00701949999998, -74.0118963, -73.98961169557468, -74.00324294999993, -74.01000350193036], \"marker\": {\"color\": \"#FF97FF\", \"size\": [1.0, 1.412121212121212, 2.3575757575757574, 1.0, 1.6933333333333334], \"sizemin\": 4, \"sizemode\": \"area\", \"sizeref\": 0.0425}, \"mode\": \"markers\", \"name\": \"BAKERY\", \"showlegend\": true, \"subplot\": \"mapbox\", \"type\": \"scattermapbox\"}, {\"customdata\": [[83.0], [0.0], [264.0]], \"hovertemplate\": \"<b>%{hovertext}</b><br><br>Category=VEGAN<br>scale=%{marker.size}<br>Latitude=%{lat}<br>Longitude=%{lon}<br>Favorites=%{customdata[0]}<extra></extra>\", \"hovertext\": [\"Beyond Sushi\", \"Nice Rice Vegan Thai\", \"by CHLOE.\"], \"lat\": [40.72217135000003, 40.7140385500001, 40.702526450000036], \"legendgroup\": \"VEGAN\", \"lon\": [-73.99636760810698, -73.99896129292486, -73.98598783528499], \"marker\": {\"color\": \"#FECB52\", \"size\": [1.4024242424242424, 1.0, 2.2800000000000002], \"sizemin\": 4, \"sizemode\": \"area\", \"sizeref\": 0.0425}, \"mode\": \"markers\", \"name\": \"VEGAN\", \"showlegend\": true, \"subplot\": \"mapbox\", \"type\": \"scattermapbox\"}, {\"customdata\": [[52.0], [0.0], [0.0], [0.0], [80.0]], \"hovertemplate\": \"<b>%{hovertext}</b><br><br>Category=BREAKFAST<br>scale=%{marker.size}<br>Latitude=%{lat}<br>Longitude=%{lon}<br>Favorites=%{customdata[0]}<extra></extra>\", \"hovertext\": [\"Bluestone Lane Cafe\", \"Breakfast Beauties\", \"Flipper's\", \"Sunny & Fine's Breakfast Burritos\", \"The Vegan Breakfast\"], \"lat\": [40.72071580000009, 40.70486119999991, 40.72240850000002, 40.70486119999992, 40.71863160000005], \"legendgroup\": \"BREAKFAST\", \"lon\": [-73.99478509999982, -74.00955989999981, -74.00357189999995, -74.0095598999998, -73.98934890000007], \"marker\": {\"color\": \"#636efa\", \"size\": [1.2521212121212122, 1.0, 1.0, 1.0, 1.387878787878788], \"sizemin\": 4, \"sizemode\": \"area\", \"sizeref\": 0.0425}, \"mode\": \"markers\", \"name\": \"BREAKFAST\", \"showlegend\": true, \"subplot\": \"mapbox\", \"type\": \"scattermapbox\"}, {\"customdata\": [[105.0], [0.0], [91.0], [91.0], [138.0]], \"hovertemplate\": \"<b>%{hovertext}</b><br><br>Category=COFFEE<br>scale=%{marker.size}<br>Latitude=%{lat}<br>Longitude=%{lon}<br>Favorites=%{customdata[0]}<extra></extra>\", \"hovertext\": [\"Bluestone Lane Coffee\", \"Gregorys Coffee\", \"Jack's Stir Brew Coffee\", \"Kaffe 1668\", \"The Elk\"], \"lat\": [40.73001220000005, 40.70600379999997, 40.71632100000003, 40.72091419999999, 40.73418010000014], \"legendgroup\": \"COFFEE\", \"lon\": [-74.00283299273184, -74.01294299999991, -74.0097115384615, -74.00968249794182, -74.00742429999993], \"marker\": {\"color\": \"#EF553B\", \"size\": [1.509090909090909, 1.0, 1.4412121212121212, 1.4412121212121212, 1.669090909090909], \"sizemin\": 4, \"sizemode\": \"area\", \"sizeref\": 0.0425}, \"mode\": \"markers\", \"name\": \"COFFEE\", \"showlegend\": true, \"subplot\": \"mapbox\", \"type\": \"scattermapbox\"}, {\"customdata\": [[319.0], [0.0]], \"hovertemplate\": \"<b>%{hovertext}</b><br><br>Category=VIETNAMESE<br>scale=%{marker.size}<br>Latitude=%{lat}<br>Longitude=%{lon}<br>Favorites=%{customdata[0]}<extra></extra>\", \"hovertext\": [\"BoCaphe\", \"Pasteur Grill and Noodles\"], \"lat\": [40.72210135000011, 40.71671280000008], \"legendgroup\": \"VIETNAMESE\", \"lon\": [-73.9976677325148, -73.9997084999997], \"marker\": {\"color\": \"#00cc96\", \"size\": [2.546666666666667, 1.0], \"sizemin\": 4, \"sizemode\": \"area\", \"sizeref\": 0.0425}, \"mode\": \"markers\", \"name\": \"VIETNAMESE\", \"showlegend\": true, \"subplot\": \"mapbox\", \"type\": \"scattermapbox\"}, {\"customdata\": [[579.0]], \"hovertemplate\": \"<b>%{hovertext}</b><br><br>Category=SOUTHERN<br>scale=%{marker.size}<br>Latitude=%{lat}<br>Longitude=%{lon}<br>Favorites=%{customdata[0]}<extra></extra>\", \"hovertext\": [\"Bobwhite Counter\"], \"lat\": [40.72362435000002], \"legendgroup\": \"SOUTHERN\", \"lon\": [-73.97893769999999], \"marker\": {\"color\": \"#ab63fa\", \"size\": [3.807272727272727], \"sizemin\": 4, \"sizemode\": \"area\", \"sizeref\": 0.0425}, \"mode\": \"markers\", \"name\": \"SOUTHERN\", \"showlegend\": true, \"subplot\": \"mapbox\", \"type\": \"scattermapbox\"}, {\"customdata\": [[115.0], [193.0], [0.0], [0.0], [3300.0], [1900.0]], \"hovertemplate\": \"<b>%{hovertext}</b><br><br>Category=SUSHI<br>scale=%{marker.size}<br>Latitude=%{lat}<br>Longitude=%{lon}<br>Favorites=%{customdata[0]}<extra></extra>\", \"hovertext\": [\"Bondi Sushi - Nolita\", \"Bondi Sushi - Tribeca\", \"Go Sushi\", \"JR Sushi\", \"KazuNori | The Original Handroll Bar\", \"SUGARFISH\"], \"lat\": [40.72120600000004, 40.71494379999998, 40.68397829999992, 40.71530720000008, 40.65981285882355, 40.725148900000015], \"legendgroup\": \"SUSHI\", \"lon\": [-73.99627799999995, -74.01086851127363, -73.95559884999984, -74.00959920000022, -74.00126645882351, -74.00362382165937], \"marker\": {\"color\": \"#FFA15A\", \"size\": [1.5575757575757576, 1.9357575757575758, 1.0, 1.0, 17.0, 10.212121212121213], \"sizemin\": 4, \"sizemode\": \"area\", \"sizeref\": 0.0425}, \"mode\": \"markers\", \"name\": \"SUSHI\", \"showlegend\": true, \"subplot\": \"mapbox\", \"type\": \"scattermapbox\"}, {\"customdata\": [[0.0], [117.0], [59.0], [0.0], [491.0], [0.0]], \"hovertemplate\": \"<b>%{hovertext}</b><br><br>Category=BURGER<br>scale=%{marker.size}<br>Latitude=%{lat}<br>Longitude=%{lon}<br>Favorites=%{customdata[0]}<extra></extra>\", \"hovertext\": [\"Breakroom\", \"Five Guys Burgers and Fries\", \"Holy Cow Burger\", \"Outlaw Burger\", \"Shake Shack\", \"Shake Shack (Bryant Park 1300)\"], \"lat\": [40.71662080000002, 40.73232510000002, 40.714364950000004, 40.70920805, 40.90813249999994, 40.6545275714286], \"legendgroup\": \"BURGER\", \"lon\": [-73.99976250000005, -74.00384279999999, -73.99069929885098, -74.0136683922442, -73.89688960000011, -74.01401204081637], \"marker\": {\"color\": \"#19d3f3\", \"size\": [1.0, 1.5672727272727274, 1.2860606060606061, 1.0, 3.3806060606060604, 1.0], \"sizemin\": 4, \"sizemode\": \"area\", \"sizeref\": 0.0425}, \"mode\": \"markers\", \"name\": \"BURGER\", \"showlegend\": true, \"subplot\": \"mapbox\", \"type\": \"scattermapbox\"}, {\"customdata\": [[0.0], [0.0], [101.0], [61.0], [0.0]], \"hovertemplate\": \"<b>%{hovertext}</b><br><br>Category=BAGEL<br>scale=%{marker.size}<br>Latitude=%{lat}<br>Longitude=%{lon}<br>Favorites=%{customdata[0]}<extra></extra>\", \"hovertext\": [\"Brekkie Bagels\", \"Essabagel Sixth Avenue LLC\", \"Gramercy Bagels\", \"Kossar's Bagels and Bialys\", \"Tal Bagels\"], \"lat\": [40.718631599999966, 40.748631700000125, 40.737198099999915, 40.71640719999993, null], \"legendgroup\": \"BAGEL\", \"lon\": [-73.9893489000002, -73.98934919999984, -73.98456930000017, -73.98878650000005, null], \"marker\": {\"color\": \"#FF6692\", \"size\": [1.0, 1.0, 1.4896969696969697, 1.2957575757575759, 1.0], \"sizemin\": 4, \"sizemode\": \"area\", \"sizeref\": 0.0425}, \"mode\": \"markers\", \"name\": \"BAGEL\", \"showlegend\": true, \"subplot\": \"mapbox\", \"type\": \"scattermapbox\"}, {\"customdata\": [[135.0], [145.0], [111.0], [76.0]], \"hovertemplate\": \"<b>%{hovertext}</b><br><br>Category=VEGETARIAN<br>scale=%{marker.size}<br>Latitude=%{lat}<br>Longitude=%{lon}<br>Favorites=%{customdata[0]}<extra></extra>\", \"hovertext\": [\"Buddha Bodai Kosher Vegetarian\", \"Buddha Bodai Vegetarian Kosher\", \"Magic Mix Juicery\", \"sweetgreen\"], \"lat\": [40.716357000000066, 40.71386499999987, 40.70951425000007, 40.71546439999998], \"legendgroup\": \"VEGETARIAN\", \"lon\": [-73.99917380000029, -73.99879839999996, -74.00688230123826, -74.00886510000005], \"marker\": {\"color\": \"#B6E880\", \"size\": [1.6545454545454545, 1.7030303030303031, 1.538181818181818, 1.3684848484848484], \"sizemin\": 4, \"sizemode\": \"area\", \"sizeref\": 0.0425}, \"mode\": \"markers\", \"name\": \"VEGETARIAN\", \"showlegend\": true, \"subplot\": \"mapbox\", \"type\": \"scattermapbox\"}, {\"customdata\": [[0.0], [0.0], [614.0], [0.0], [106.0], [56.0], [51.0]], \"hovertemplate\": \"<b>%{hovertext}</b><br><br>Category=FAST FOOD<br>scale=%{marker.size}<br>Latitude=%{lat}<br>Longitude=%{lon}<br>Favorites=%{customdata[0]}<extra></extra>\", \"hovertext\": [\"Burger King\", \"Checkers\", \"Cocu Rotisserie\", \"McDonald's\", \"Popeyes Louisiana Kitchen\", \"Taco Bell\", \"Wendy's\"], \"lat\": [40.70958419999992, 40.71135350000002, 40.730041142857154, 40.716297799999886, 40.71791940000002, 40.67682249999997, 40.710047999999944], \"legendgroup\": \"FAST FOOD\", \"lon\": [-74.00703473926485, -73.99982929999997, -74.00308671428583, -74.01066650000018, -74.00059310952022, -73.90003169999993, -74.00803379999986], \"marker\": {\"color\": \"#FF97FF\", \"size\": [1.0, 1.0, 3.976969696969697, 1.0, 1.513939393939394, 1.2715151515151515, 1.2472727272727273], \"sizemin\": 4, \"sizemode\": \"area\", \"sizeref\": 0.0425}, \"mode\": \"markers\", \"name\": \"FAST FOOD\", \"showlegend\": true, \"subplot\": \"mapbox\", \"type\": \"scattermapbox\"}, {\"customdata\": [[94.0], [0.0]], \"hovertemplate\": \"<b>%{hovertext}</b><br><br>Category=ICE CREAM<br>scale=%{marker.size}<br>Latitude=%{lat}<br>Longitude=%{lon}<br>Favorites=%{customdata[0]}<extra></extra>\", \"hovertext\": [\"Carvel Ice Cream & Cake Shop\", \"H\\u00e4agen-Dazs Shop\"], \"lat\": [40.707665749999975, 40.90813250000005], \"legendgroup\": \"ICE CREAM\", \"lon\": [-74.00595246337208, -73.89688960000025], \"marker\": {\"color\": \"#FECB52\", \"size\": [1.4557575757575758, 1.0], \"sizemin\": 4, \"sizemode\": \"area\", \"sizeref\": 0.0425}, \"mode\": \"markers\", \"name\": \"ICE CREAM\", \"showlegend\": true, \"subplot\": \"mapbox\", \"type\": \"scattermapbox\"}, {\"customdata\": [[0.0], [0.0], [0.0], [191.0], [52.0], [0.0]], \"hovertemplate\": \"<b>%{hovertext}</b><br><br>Category=PIZZA<br>scale=%{marker.size}<br>Latitude=%{lat}<br>Longitude=%{lon}<br>Favorites=%{customdata[0]}<extra></extra>\", \"hovertext\": [\"Champion Pizza Soho\", \"Dat Pizza Dough\", \"FREAKING GOOD PIZZA\", \"Joe's Pizza\", \"Prince Street Pizza\", \"Williamsburg Pizza\"], \"lat\": [40.72158510000006, 40.71016000000006, 40.71016000000006, 40.71012240000002, 40.7229886, 40.71833757142854], \"legendgroup\": \"PIZZA\", \"lon\": [-73.99723269999976, -74.00575169999983, -74.00575169999985, -74.00774730000005, -73.99455800000005, -73.99123228571432], \"marker\": {\"color\": \"#636efa\", \"size\": [1.0, 1.0, 1.0, 1.926060606060606, 1.2521212121212122, 1.0], \"sizemin\": 4, \"sizemode\": \"area\", \"sizeref\": 0.0425}, \"mode\": \"markers\", \"name\": \"PIZZA\", \"showlegend\": true, \"subplot\": \"mapbox\", \"type\": \"scattermapbox\"}, {\"customdata\": [[0.0], [0.0], [0.0], [71.0], [0.0], [0.0]], \"hovertemplate\": \"<b>%{hovertext}</b><br><br>Category=SANDWICH<br>scale=%{marker.size}<br>Latitude=%{lat}<br>Longitude=%{lon}<br>Favorites=%{customdata[0]}<extra></extra>\", \"hovertext\": [\"Cheeky's Cheesesteaks\", \"Cutlets Sandwich Co.\", \"Grilled Cheese Society\", \"Lenwich\", \"Potbelly Sandwich Shop\", \"Subway\"], \"lat\": [40.70486119999991, 40.738829149999994, 40.709208049999994, 40.73470759999986, 40.71013499999995, 40.71527800000002], \"legendgroup\": \"SANDWICH\", \"lon\": [-74.00955989999984, -73.98952199729624, -74.01366839224421, -73.99234599999961, -74.0073570000001, -74.00745290000013], \"marker\": {\"color\": \"#EF553B\", \"size\": [1.0, 1.0, 1.0, 1.3442424242424242, 1.0, 1.0], \"sizemin\": 4, \"sizemode\": \"area\", \"sizeref\": 0.0425}, \"mode\": \"markers\", \"name\": \"SANDWICH\", \"showlegend\": true, \"subplot\": \"mapbox\", \"type\": \"scattermapbox\"}, {\"customdata\": [[0.0], [231.0], [0.0], [0.0], [157.0], [172.0]], \"hovertemplate\": \"<b>%{hovertext}</b><br><br>Category=CHINESE<br>scale=%{marker.size}<br>Latitude=%{lat}<br>Longitude=%{lon}<br>Favorites=%{customdata[0]}<extra></extra>\", \"hovertext\": [\"Chinese Fried Rice Spot\", \"Jing Fong\", \"Joe's Ginger \\u9526\\u6c5f\\u996d\\u5e97\", \"P.F. Chang's To Go (Financial District)\", \"Peking Duck House\", \"Taste Chinese Restaurant\"], \"lat\": [40.714038550000005, 40.715983000000044, 40.71477620000021, 40.67682250000004, 40.71463820000006, 40.71570972727284], \"legendgroup\": \"CHINESE\", \"lon\": [-73.99896129292505, -73.99720309999992, -73.99836917036362, -73.9000317, -73.9985570999999, -74.00745118181833], \"marker\": {\"color\": \"#00cc96\", \"size\": [1.0, 2.12, 1.0, 1.0, 1.7612121212121212, 1.833939393939394], \"sizemin\": 4, \"sizemode\": \"area\", \"sizeref\": 0.0425}, \"mode\": \"markers\", \"name\": \"CHINESE\", \"showlegend\": true, \"subplot\": \"mapbox\", \"type\": \"scattermapbox\"}, {\"customdata\": [[0.0], [0.0]], \"hovertemplate\": \"<b>%{hovertext}</b><br><br>Category=BURRITO<br>scale=%{marker.size}<br>Latitude=%{lat}<br>Longitude=%{lon}<br>Favorites=%{customdata[0]}<extra></extra>\", \"hovertext\": [\"Chipotle Mexican Grill\", \"Wham! Bam! Burrito!\"], \"lat\": [40.70990200000004, 40.718631600000045], \"legendgroup\": \"BURRITO\", \"lon\": [-74.00684309999998, -73.9893489000001], \"marker\": {\"color\": \"#ab63fa\", \"size\": [1.0, 1.0], \"sizemin\": 4, \"sizemode\": \"area\", \"sizeref\": 0.0425}, \"mode\": \"markers\", \"name\": \"BURRITO\", \"showlegend\": true, \"subplot\": \"mapbox\", \"type\": \"scattermapbox\"}, {\"customdata\": [[0.0], [0.0], [110.0], [104.0], [0.0]], \"hovertemplate\": \"<b>%{hovertext}</b><br><br>Category=TEA<br>scale=%{marker.size}<br>Latitude=%{lat}<br>Longitude=%{lon}<br>Favorites=%{customdata[0]}<extra></extra>\", \"hovertext\": [\"Chun Yang Tea\", \"Tiger Sugar\", \"Vivi Bubble Tea\", \"Yaya Tea Garden\", \"Yi Fang Taiwan Fruit Tea\"], \"lat\": [40.71615375000007, 40.81186953691279, 40.71614140000009, 40.71620230000005, 40.71535244999997], \"legendgroup\": \"TEA\", \"lon\": [-73.99710425000009, -73.92971026845636, -74.00506479999984, -73.9949517000001, -73.99826809200702], \"marker\": {\"color\": \"#FFA15A\", \"size\": [1.0, 1.0, 1.5333333333333332, 1.5042424242424244, 1.0], \"sizemin\": 4, \"sizemode\": \"area\", \"sizeref\": 0.0425}, \"mode\": \"markers\", \"name\": \"TEA\", \"showlegend\": true, \"subplot\": \"mapbox\", \"type\": \"scattermapbox\"}, {\"customdata\": [[0.0], [65.0], [71.0], [535.0], [0.0], [0.0], [0.0]], \"hovertemplate\": \"<b>%{hovertext}</b><br><br>Category=ITALIAN<br>scale=%{marker.size}<br>Latitude=%{lat}<br>Longitude=%{lon}<br>Favorites=%{customdata[0]}<extra></extra>\", \"hovertext\": [\"Da Gennaro\", \"Epistrophy Cafe\", \"Fiat Caf\\u00e9\", \"Parm\", \"Piccola Cucina\", \"Pimp my Pasta\", \"Sant Ambroeus Brookfield\"], \"lat\": [40.71831680000001, 40.721184949999966, 40.72144870000008, 40.72302824999998, 40.72464190000001, 40.71863160000018, 40.713641350000046], \"legendgroup\": \"ITALIAN\", \"lon\": [-73.99794339999997, -73.99536865589333, -73.99567409999989, -73.99567840577117, -74.00304871157456, -73.98934889999978, -74.01482043211584], \"marker\": {\"color\": \"#19d3f3\", \"size\": [1.0, 1.3151515151515152, 1.3442424242424242, 3.5939393939393938, 1.0, 1.0, 1.0], \"sizemin\": 4, \"sizemode\": \"area\", \"sizeref\": 0.0425}, \"mode\": \"markers\", \"name\": \"ITALIAN\", \"showlegend\": true, \"subplot\": \"mapbox\", \"type\": \"scattermapbox\"}, {\"customdata\": [[204.0], [97.0], [0.0], [53.0], [131.0], [191.0], [0.0], [171.0]], \"hovertemplate\": \"<b>%{hovertext}</b><br><br>Category=ASIAN<br>scale=%{marker.size}<br>Latitude=%{lat}<br>Longitude=%{lon}<br>Favorites=%{customdata[0]}<extra></extra>\", \"hovertext\": [\"Dim Sum Go Go\", \"Famous Sichuan\", \"Khe-Yo\", \"New Malaysia\", \"Noodle Village \\u7ca5\\u9eb5\\u8ed2\", \"Nyonya\", \"Shanghai Asian Cuisine\", \"Taiwan Bear House\"], \"lat\": [40.71324245000004, 40.71486130000006, 40.71689074999996, 40.71577880000021, 40.71412179999987, 40.714204799999855, 40.71588940000014, 40.71472489999998], \"legendgroup\": \"ASIAN\", \"lon\": [-73.99772785608458, -73.9975829321703, -74.00859079405743, -73.9965978, -73.99894719314626, -73.96028379999971, -73.99725980000025, -73.9977838], \"marker\": {\"color\": \"#FF6692\", \"size\": [1.9890909090909092, 1.4703030303030302, 1.0, 1.2569696969696968, 1.6351515151515152, 1.926060606060606, 1.0, 1.829090909090909], \"sizemin\": 4, \"sizemode\": \"area\", \"sizeref\": 0.0425}, \"mode\": \"markers\", \"name\": \"ASIAN\", \"showlegend\": true, \"subplot\": \"mapbox\", \"type\": \"scattermapbox\"}, {\"customdata\": [[112.0], [0.0], [109.0], [80.0], [191.0]], \"hovertemplate\": \"<b>%{hovertext}</b><br><br>Category=DELI<br>scale=%{marker.size}<br>Latitude=%{lat}<br>Longitude=%{lon}<br>Favorites=%{customdata[0]}<extra></extra>\", \"hovertext\": [\"Dimes Deli\", \"Seaport Deli\", \"Spring Street Finest Deli\", \"The Best of New York Food\", \"Tribeca Bagels\"], \"lat\": [40.71443900000002, 40.7088076, 40.72588999999987, 40.706438799999894, 40.720923400000125], \"legendgroup\": \"DELI\", \"lon\": [-73.99081269999999, -74.0053093999998, -74.00929480000008, -74.00591870000044, -74.00434569999967], \"marker\": {\"color\": \"#B6E880\", \"size\": [1.543030303030303, 1.0, 1.5284848484848483, 1.387878787878788, 1.926060606060606], \"sizemin\": 4, \"sizemode\": \"area\", \"sizeref\": 0.0425}, \"mode\": \"markers\", \"name\": \"DELI\", \"showlegend\": true, \"subplot\": \"mapbox\", \"type\": \"scattermapbox\"}, {\"customdata\": [[309.0], [0.0], [105.0], [0.0], [757.0]], \"hovertemplate\": \"<b>%{hovertext}</b><br><br>Category=JUICE BAR<br>scale=%{marker.size}<br>Latitude=%{lat}<br>Longitude=%{lon}<br>Favorites=%{customdata[0]}<extra></extra>\", \"hovertext\": [\"Dr Smood\", \"JOE & THE JUICE\", \"Juice Generation\", \"Pressed Juicery\", \"The Butcher's Daughter\"], \"lat\": [40.72282755000007, 40.715976899999994, 40.70697079999992, 40.90813250000005, 40.72071580000009], \"legendgroup\": \"JUICE BAR\", \"lon\": [-74.00140753533213, -74.01083610000018, -74.00687830000014, -73.89688960000025, -73.9947850999998], \"marker\": {\"color\": \"#FF97FF\", \"size\": [2.498181818181818, 1.0, 1.509090909090909, 1.0, 4.67030303030303], \"sizemin\": 4, \"sizemode\": \"area\", \"sizeref\": 0.0425}, \"mode\": \"markers\", \"name\": \"JUICE BAR\", \"showlegend\": true, \"subplot\": \"mapbox\", \"type\": \"scattermapbox\"}, {\"customdata\": [[0.0], [0.0]], \"hovertemplate\": \"<b>%{hovertext}</b><br><br>Category=BOBA<br>scale=%{marker.size}<br>Latitude=%{lat}<br>Longitude=%{lon}<br>Favorites=%{customdata[0]}<extra></extra>\", \"hovertext\": [\"Dragon Tea\", \"Gong Cha\"], \"lat\": [40.708529700000014, 40.90813250000018], \"legendgroup\": \"BOBA\", \"lon\": [-74.01362744970417, -73.89688960000032], \"marker\": {\"color\": \"#FECB52\", \"size\": [1.0, 1.0], \"sizemin\": 4, \"sizemode\": \"area\", \"sizeref\": 0.0425}, \"mode\": \"markers\", \"name\": \"BOBA\", \"showlegend\": true, \"subplot\": \"mapbox\", \"type\": \"scattermapbox\"}, {\"customdata\": [[0.0]], \"hovertemplate\": \"<b>%{hovertext}</b><br><br>Category=FOOD & BEVERAGE<br>scale=%{marker.size}<br>Latitude=%{lat}<br>Longitude=%{lon}<br>Favorites=%{customdata[0]}<extra></extra>\", \"hovertext\": [\"Duane Park Patisserie\"], \"lat\": [40.717545499999936], \"legendgroup\": \"FOOD & BEVERAGE\", \"lon\": [-74.01000350193016], \"marker\": {\"color\": \"#636efa\", \"size\": [1.0], \"sizemin\": 4, \"sizemode\": \"area\", \"sizeref\": 0.0425}, \"mode\": \"markers\", \"name\": \"FOOD & BEVERAGE\", \"showlegend\": true, \"subplot\": \"mapbox\", \"type\": \"scattermapbox\"}, {\"customdata\": [[83.0]], \"hovertemplate\": \"<b>%{hovertext}</b><br><br>Category=CAFE<br>scale=%{marker.size}<br>Latitude=%{lat}<br>Longitude=%{lon}<br>Favorites=%{customdata[0]}<extra></extra>\", \"hovertext\": [\"Flowers Cafe\"], \"lat\": [40.716231400000076], \"legendgroup\": \"CAFE\", \"lon\": [-73.98969331114041], \"marker\": {\"color\": \"#EF553B\", \"size\": [1.4024242424242424], \"sizemin\": 4, \"sizemode\": \"area\", \"sizeref\": 0.0425}, \"mode\": \"markers\", \"name\": \"CAFE\", \"showlegend\": true, \"subplot\": \"mapbox\", \"type\": \"scattermapbox\"}, {\"customdata\": [[99.0], [101.0], [77.0], [0.0]], \"hovertemplate\": \"<b>%{hovertext}</b><br><br>Category=NOODLE<br>scale=%{marker.size}<br>Latitude=%{lat}<br>Longitude=%{lon}<br>Favorites=%{customdata[0]}<extra></extra>\", \"hovertext\": [\"Joe's Shanghai\", \"Send Noods\", \"Tasty's Hand Pulled Noodles\", \"Tonii's Fresh Rice Noodle\"], \"lat\": [40.71563009999981, 40.7140385500001, 40.71419169999992, 40.71561995000001], \"legendgroup\": \"NOODLE\", \"lon\": [-73.9966853000001, -73.99896129292486, -73.9978766000002, -73.99894418532652], \"marker\": {\"color\": \"#00cc96\", \"size\": [1.48, 1.4896969696969697, 1.3733333333333333, 1.0], \"sizemin\": 4, \"sizemode\": \"area\", \"sizeref\": 0.0425}, \"mode\": \"markers\", \"name\": \"NOODLE\", \"showlegend\": true, \"subplot\": \"mapbox\", \"type\": \"scattermapbox\"}, {\"customdata\": [[0.0]], \"hovertemplate\": \"<b>%{hovertext}</b><br><br>Category=SALAD<br>scale=%{marker.size}<br>Latitude=%{lat}<br>Longitude=%{lon}<br>Favorites=%{customdata[0]}<extra></extra>\", \"hovertext\": [\"Just Salad\"], \"lat\": [40.70666035], \"legendgroup\": \"SALAD\", \"lon\": [-74.00716084229227], \"marker\": {\"color\": \"#ab63fa\", \"size\": [1.0], \"sizemin\": 4, \"sizemode\": \"area\", \"sizeref\": 0.0425}, \"mode\": \"markers\", \"name\": \"SALAD\", \"showlegend\": true, \"subplot\": \"mapbox\", \"type\": \"scattermapbox\"}, {\"customdata\": [[0.0]], \"hovertemplate\": \"<b>%{hovertext}</b><br><br>Category=CHICKEN WINGS<br>scale=%{marker.size}<br>Latitude=%{lat}<br>Longitude=%{lon}<br>Favorites=%{customdata[0]}<extra></extra>\", \"hovertext\": [\"Killer Wings\"], \"lat\": [40.71403855000012], \"legendgroup\": \"CHICKEN WINGS\", \"lon\": [-73.99896129292526], \"marker\": {\"color\": \"#FFA15A\", \"size\": [1.0], \"sizemin\": 4, \"sizemode\": \"area\", \"sizeref\": 0.0425}, \"mode\": \"markers\", \"name\": \"CHICKEN WINGS\", \"showlegend\": true, \"subplot\": \"mapbox\", \"type\": \"scattermapbox\"}, {\"customdata\": [[62.0]], \"hovertemplate\": \"<b>%{hovertext}</b><br><br>Category=CANTONESE<br>scale=%{marker.size}<br>Latitude=%{lat}<br>Longitude=%{lon}<br>Favorites=%{customdata[0]}<extra></extra>\", \"hovertext\": [\"Kings Kitchen\"], \"lat\": [40.713950299999915], \"legendgroup\": \"CANTONESE\", \"lon\": [-73.99367007175843], \"marker\": {\"color\": \"#19d3f3\", \"size\": [1.3006060606060605], \"sizemin\": 4, \"sizemode\": \"area\", \"sizeref\": 0.0425}, \"mode\": \"markers\", \"name\": \"CANTONESE\", \"showlegend\": true, \"subplot\": \"mapbox\", \"type\": \"scattermapbox\"}, {\"customdata\": [[65.0], [0.0]], \"hovertemplate\": \"<b>%{hovertext}</b><br><br>Category=RAMEN<br>scale=%{marker.size}<br>Latitude=%{lat}<br>Longitude=%{lon}<br>Favorites=%{customdata[0]}<extra></extra>\", \"hovertext\": [\"Kuu Ramen\", \"Mr. Taka\"], \"lat\": [40.70976150000003, 40.72127799999999], \"legendgroup\": \"RAMEN\", \"lon\": [-74.00889190000026, -73.9890274999999], \"marker\": {\"color\": \"#FF6692\", \"size\": [1.3151515151515152, 1.0], \"sizemin\": 4, \"sizemode\": \"area\", \"sizeref\": 0.0425}, \"mode\": \"markers\", \"name\": \"RAMEN\", \"showlegend\": true, \"subplot\": \"mapbox\", \"type\": \"scattermapbox\"}, {\"customdata\": [[0.0], [117.0], [0.0]], \"hovertemplate\": \"<b>%{hovertext}</b><br><br>Category=FRENCH<br>scale=%{marker.size}<br>Latitude=%{lat}<br>Longitude=%{lon}<br>Favorites=%{customdata[0]}<extra></extra>\", \"hovertext\": [\"La Parisienne\", \"Ladur\\u00e9e\", \"\\u00c9picerie Boulud\"], \"lat\": [40.70960899999996, 40.72431885, 40.71125070000002], \"legendgroup\": \"FRENCH\", \"lon\": [-74.00933439999989, -74.00243589270376, -74.01208019999996], \"marker\": {\"color\": \"#B6E880\", \"size\": [1.0, 1.5672727272727274, 1.0], \"sizemin\": 4, \"sizemode\": \"area\", \"sizeref\": 0.0425}, \"mode\": \"markers\", \"name\": \"FRENCH\", \"showlegend\": true, \"subplot\": \"mapbox\", \"type\": \"scattermapbox\"}, {\"customdata\": [[641.0]], \"hovertemplate\": \"<b>%{hovertext}</b><br><br>Category=GLUTEN-FREE<br>scale=%{marker.size}<br>Latitude=%{lat}<br>Longitude=%{lon}<br>Favorites=%{customdata[0]}<extra></extra>\", \"hovertext\": [\"Le Botaniste Organic - Healthy - Plant based\"], \"lat\": [40.715103900000024], \"legendgroup\": \"GLUTEN-FREE\", \"lon\": [-73.96248789999997], \"marker\": {\"color\": \"#FF97FF\", \"size\": [4.1078787878787875], \"sizemin\": 4, \"sizemode\": \"area\", \"sizeref\": 0.0425}, \"mode\": \"markers\", \"name\": \"GLUTEN-FREE\", \"showlegend\": true, \"subplot\": \"mapbox\", \"type\": \"scattermapbox\"}, {\"customdata\": [[0.0]], \"hovertemplate\": \"<b>%{hovertext}</b><br><br>Category=BBQ<br>scale=%{marker.size}<br>Latitude=%{lat}<br>Longitude=%{lon}<br>Favorites=%{customdata[0]}<extra></extra>\", \"hovertext\": [\"Mighty Quinn's BBQ\"], \"lat\": [40.71227204999998], \"legendgroup\": \"BBQ\", \"lon\": [-74.01543606304266], \"marker\": {\"color\": \"#FECB52\", \"size\": [1.0], \"sizemin\": 4, \"sizemode\": \"area\", \"sizeref\": 0.0425}, \"mode\": \"markers\", \"name\": \"BBQ\", \"showlegend\": true, \"subplot\": \"mapbox\", \"type\": \"scattermapbox\"}, {\"customdata\": [[0.0]], \"hovertemplate\": \"<b>%{hovertext}</b><br><br>Category=FRIED CHICKEN<br>scale=%{marker.size}<br>Latitude=%{lat}<br>Longitude=%{lon}<br>Favorites=%{customdata[0]}<extra></extra>\", \"hovertext\": [\"Miss Mazy's Amazin' Chicken\"], \"lat\": [40.70920804999997], \"legendgroup\": \"FRIED CHICKEN\", \"lon\": [-74.0136683922442], \"marker\": {\"color\": \"#636efa\", \"size\": [1.0], \"sizemin\": 4, \"sizemode\": \"area\", \"sizeref\": 0.0425}, \"mode\": \"markers\", \"name\": \"FRIED CHICKEN\", \"showlegend\": true, \"subplot\": \"mapbox\", \"type\": \"scattermapbox\"}, {\"customdata\": [[62.0]], \"hovertemplate\": \"<b>%{hovertext}</b><br><br>Category=CONVENIENCE<br>scale=%{marker.size}<br>Latitude=%{lat}<br>Longitude=%{lon}<br>Favorites=%{customdata[0]}<extra></extra>\", \"hovertext\": [\"One's Convenience & Smoke Shop\"], \"lat\": [40.73412375000037], \"legendgroup\": \"CONVENIENCE\", \"lon\": [-73.98093487175143], \"marker\": {\"color\": \"#EF553B\", \"size\": [1.3006060606060605], \"sizemin\": 4, \"sizemode\": \"area\", \"sizeref\": 0.0425}, \"mode\": \"markers\", \"name\": \"CONVENIENCE\", \"showlegend\": true, \"subplot\": \"mapbox\", \"type\": \"scattermapbox\"}, {\"customdata\": [[0.0]], \"hovertemplate\": \"<b>%{hovertext}</b><br><br>Category=STEAK<br>scale=%{marker.size}<br>Latitude=%{lat}<br>Longitude=%{lon}<br>Favorites=%{customdata[0]}<extra></extra>\", \"hovertext\": [\"Palm Restaurant\"], \"lat\": [40.59794400000005], \"legendgroup\": \"STEAK\", \"lon\": [-73.97163], \"marker\": {\"color\": \"#00cc96\", \"size\": [1.0], \"sizemin\": 4, \"sizemode\": \"area\", \"sizeref\": 0.0425}, \"mode\": \"markers\", \"name\": \"STEAK\", \"showlegend\": true, \"subplot\": \"mapbox\", \"type\": \"scattermapbox\"}, {\"customdata\": [[70.0], [0.0]], \"hovertemplate\": \"<b>%{hovertext}</b><br><br>Category=PHO<br>scale=%{marker.size}<br>Latitude=%{lat}<br>Longitude=%{lon}<br>Favorites=%{customdata[0]}<extra></extra>\", \"hovertext\": [\"Pho Grand\", \"Pho Time !\"], \"lat\": [40.71771059999994, 40.72210135], \"legendgroup\": \"PHO\", \"lon\": [-73.99276319999991, -73.99766773251476], \"marker\": {\"color\": \"#ab63fa\", \"size\": [1.3393939393939394, 1.0], \"sizemin\": 4, \"sizemode\": \"area\", \"sizeref\": 0.0425}, \"mode\": \"markers\", \"name\": \"PHO\", \"showlegend\": true, \"subplot\": \"mapbox\", \"type\": \"scattermapbox\"}, {\"customdata\": [[0.0]], \"hovertemplate\": \"<b>%{hovertext}</b><br><br>Category=SEAFOOD<br>scale=%{marker.size}<br>Latitude=%{lat}<br>Longitude=%{lon}<br>Favorites=%{customdata[0]}<extra></extra>\", \"hovertext\": [\"Ping's Seafood\"], \"lat\": [40.714411650000045], \"legendgroup\": \"SEAFOOD\", \"lon\": [-73.99860771171896], \"marker\": {\"color\": \"#FFA15A\", \"size\": [1.0], \"sizemin\": 4, \"sizemode\": \"area\", \"sizeref\": 0.0425}, \"mode\": \"markers\", \"name\": \"SEAFOOD\", \"showlegend\": true, \"subplot\": \"mapbox\", \"type\": \"scattermapbox\"}, {\"customdata\": [[341.0]], \"hovertemplate\": \"<b>%{hovertext}</b><br><br>Category=ACAI<br>scale=%{marker.size}<br>Latitude=%{lat}<br>Longitude=%{lon}<br>Favorites=%{customdata[0]}<extra></extra>\", \"hovertext\": [\"Playa Bowls\"], \"lat\": [40.729453250000006], \"legendgroup\": \"ACAI\", \"lon\": [-74.0006674093271], \"marker\": {\"color\": \"#19d3f3\", \"size\": [2.6533333333333333], \"sizemin\": 4, \"sizemode\": \"area\", \"sizeref\": 0.0425}, \"mode\": \"markers\", \"name\": \"ACAI\", \"showlegend\": true, \"subplot\": \"mapbox\", \"type\": \"scattermapbox\"}, {\"customdata\": [[0.0]], \"hovertemplate\": \"<b>%{hovertext}</b><br><br>Category=TURKISH<br>scale=%{marker.size}<br>Latitude=%{lat}<br>Longitude=%{lon}<br>Favorites=%{customdata[0]}<extra></extra>\", \"hovertext\": [\"Soup & Gyro Turkish Mediterranean Restaurant\"], \"lat\": [40.71570972727281], \"legendgroup\": \"TURKISH\", \"lon\": [-74.00745118181831], \"marker\": {\"color\": \"#FF6692\", \"size\": [1.0], \"sizemin\": 4, \"sizemode\": \"area\", \"sizeref\": 0.0425}, \"mode\": \"markers\", \"name\": \"TURKISH\", \"showlegend\": true, \"subplot\": \"mapbox\", \"type\": \"scattermapbox\"}, {\"customdata\": [[0.0]], \"hovertemplate\": \"<b>%{hovertext}</b><br><br>Category=JAPANESE<br>scale=%{marker.size}<br>Latitude=%{lat}<br>Longitude=%{lon}<br>Favorites=%{customdata[0]}<extra></extra>\", \"hovertext\": [\"Sushi & Co\"], \"lat\": [40.709432000000014], \"legendgroup\": \"JAPANESE\", \"lon\": [-74.0086488333334], \"marker\": {\"color\": \"#B6E880\", \"size\": [1.0], \"sizemin\": 4, \"sizemode\": \"area\", \"sizeref\": 0.0425}, \"mode\": \"markers\", \"name\": \"JAPANESE\", \"showlegend\": true, \"subplot\": \"mapbox\", \"type\": \"scattermapbox\"}, {\"customdata\": [[154.0]], \"hovertemplate\": \"<b>%{hovertext}</b><br><br>Category=ISRAELI<br>scale=%{marker.size}<br>Latitude=%{lat}<br>Longitude=%{lon}<br>Favorites=%{customdata[0]}<extra></extra>\", \"hovertext\": [\"Twelve Chairs\"], \"lat\": [40.727550099999945], \"legendgroup\": \"ISRAELI\", \"lon\": [-74.00240759999998], \"marker\": {\"color\": \"#FF97FF\", \"size\": [1.7466666666666666], \"sizemin\": 4, \"sizemode\": \"area\", \"sizeref\": 0.0425}, \"mode\": \"markers\", \"name\": \"ISRAELI\", \"showlegend\": true, \"subplot\": \"mapbox\", \"type\": \"scattermapbox\"}],                        {\"height\": 300, \"legend\": {\"itemsizing\": \"constant\", \"title\": {\"text\": \"Category\"}, \"tracegroupgap\": 0}, \"mapbox\": {\"accesstoken\": \"pk.eyJ1IjoiYmJydXNzbzExNSIsImEiOiJja29qY2x4Z2wwMnk3MnBvNzRldXo2a2J2In0.6zgZNfkLxe6DylEBbMglZA\", \"center\": {\"lat\": 40.71905323388822, \"lon\": -73.99606927211033}, \"domain\": {\"x\": [0.0, 1.0], \"y\": [0.0, 1.0]}, \"style\": \"dark\", \"zoom\": 10}, \"margin\": {\"b\": 0, \"l\": 0, \"r\": 0, \"t\": 0}, \"template\": {\"data\": {\"bar\": [{\"error_x\": {\"color\": \"#2a3f5f\"}, \"error_y\": {\"color\": \"#2a3f5f\"}, \"marker\": {\"line\": {\"color\": \"#E5ECF6\", \"width\": 0.5}}, \"type\": \"bar\"}], \"barpolar\": [{\"marker\": {\"line\": {\"color\": \"#E5ECF6\", \"width\": 0.5}}, \"type\": \"barpolar\"}], \"carpet\": [{\"aaxis\": {\"endlinecolor\": \"#2a3f5f\", \"gridcolor\": \"white\", \"linecolor\": \"white\", \"minorgridcolor\": \"white\", \"startlinecolor\": \"#2a3f5f\"}, \"baxis\": {\"endlinecolor\": \"#2a3f5f\", \"gridcolor\": \"white\", \"linecolor\": \"white\", \"minorgridcolor\": \"white\", \"startlinecolor\": \"#2a3f5f\"}, \"type\": \"carpet\"}], \"choropleth\": [{\"colorbar\": {\"outlinewidth\": 0, \"ticks\": \"\"}, \"type\": \"choropleth\"}], \"contour\": [{\"colorbar\": {\"outlinewidth\": 0, \"ticks\": \"\"}, \"colorscale\": [[0.0, \"#0d0887\"], [0.1111111111111111, \"#46039f\"], [0.2222222222222222, \"#7201a8\"], [0.3333333333333333, \"#9c179e\"], [0.4444444444444444, \"#bd3786\"], [0.5555555555555556, \"#d8576b\"], [0.6666666666666666, \"#ed7953\"], [0.7777777777777778, \"#fb9f3a\"], [0.8888888888888888, \"#fdca26\"], [1.0, \"#f0f921\"]], \"type\": \"contour\"}], \"contourcarpet\": [{\"colorbar\": {\"outlinewidth\": 0, \"ticks\": \"\"}, \"type\": \"contourcarpet\"}], \"heatmap\": [{\"colorbar\": {\"outlinewidth\": 0, \"ticks\": \"\"}, \"colorscale\": [[0.0, \"#0d0887\"], [0.1111111111111111, \"#46039f\"], [0.2222222222222222, \"#7201a8\"], [0.3333333333333333, \"#9c179e\"], [0.4444444444444444, \"#bd3786\"], [0.5555555555555556, \"#d8576b\"], [0.6666666666666666, \"#ed7953\"], [0.7777777777777778, \"#fb9f3a\"], [0.8888888888888888, \"#fdca26\"], [1.0, \"#f0f921\"]], \"type\": \"heatmap\"}], \"heatmapgl\": [{\"colorbar\": {\"outlinewidth\": 0, \"ticks\": \"\"}, \"colorscale\": [[0.0, \"#0d0887\"], [0.1111111111111111, \"#46039f\"], [0.2222222222222222, \"#7201a8\"], [0.3333333333333333, \"#9c179e\"], [0.4444444444444444, \"#bd3786\"], [0.5555555555555556, \"#d8576b\"], [0.6666666666666666, \"#ed7953\"], [0.7777777777777778, \"#fb9f3a\"], [0.8888888888888888, \"#fdca26\"], [1.0, \"#f0f921\"]], \"type\": \"heatmapgl\"}], \"histogram\": [{\"marker\": {\"colorbar\": {\"outlinewidth\": 0, \"ticks\": \"\"}}, \"type\": \"histogram\"}], \"histogram2d\": [{\"colorbar\": {\"outlinewidth\": 0, \"ticks\": \"\"}, \"colorscale\": [[0.0, \"#0d0887\"], [0.1111111111111111, \"#46039f\"], [0.2222222222222222, \"#7201a8\"], [0.3333333333333333, \"#9c179e\"], [0.4444444444444444, \"#bd3786\"], [0.5555555555555556, \"#d8576b\"], [0.6666666666666666, \"#ed7953\"], [0.7777777777777778, \"#fb9f3a\"], [0.8888888888888888, \"#fdca26\"], [1.0, \"#f0f921\"]], \"type\": \"histogram2d\"}], \"histogram2dcontour\": [{\"colorbar\": {\"outlinewidth\": 0, \"ticks\": \"\"}, \"colorscale\": [[0.0, \"#0d0887\"], [0.1111111111111111, \"#46039f\"], [0.2222222222222222, \"#7201a8\"], [0.3333333333333333, \"#9c179e\"], [0.4444444444444444, \"#bd3786\"], [0.5555555555555556, \"#d8576b\"], [0.6666666666666666, \"#ed7953\"], [0.7777777777777778, \"#fb9f3a\"], [0.8888888888888888, \"#fdca26\"], [1.0, \"#f0f921\"]], \"type\": \"histogram2dcontour\"}], \"mesh3d\": [{\"colorbar\": {\"outlinewidth\": 0, \"ticks\": \"\"}, \"type\": \"mesh3d\"}], \"parcoords\": [{\"line\": {\"colorbar\": {\"outlinewidth\": 0, \"ticks\": \"\"}}, \"type\": \"parcoords\"}], \"pie\": [{\"automargin\": true, \"type\": \"pie\"}], \"scatter\": [{\"marker\": {\"colorbar\": {\"outlinewidth\": 0, \"ticks\": \"\"}}, \"type\": \"scatter\"}], \"scatter3d\": [{\"line\": {\"colorbar\": {\"outlinewidth\": 0, \"ticks\": \"\"}}, \"marker\": {\"colorbar\": {\"outlinewidth\": 0, \"ticks\": \"\"}}, \"type\": \"scatter3d\"}], \"scattercarpet\": [{\"marker\": {\"colorbar\": {\"outlinewidth\": 0, \"ticks\": \"\"}}, \"type\": \"scattercarpet\"}], \"scattergeo\": [{\"marker\": {\"colorbar\": {\"outlinewidth\": 0, \"ticks\": \"\"}}, \"type\": \"scattergeo\"}], \"scattergl\": [{\"marker\": {\"colorbar\": {\"outlinewidth\": 0, \"ticks\": \"\"}}, \"type\": \"scattergl\"}], \"scattermapbox\": [{\"marker\": {\"colorbar\": {\"outlinewidth\": 0, \"ticks\": \"\"}}, \"type\": \"scattermapbox\"}], \"scatterpolar\": [{\"marker\": {\"colorbar\": {\"outlinewidth\": 0, \"ticks\": \"\"}}, \"type\": \"scatterpolar\"}], \"scatterpolargl\": [{\"marker\": {\"colorbar\": {\"outlinewidth\": 0, \"ticks\": \"\"}}, \"type\": \"scatterpolargl\"}], \"scatterternary\": [{\"marker\": {\"colorbar\": {\"outlinewidth\": 0, \"ticks\": \"\"}}, \"type\": \"scatterternary\"}], \"surface\": [{\"colorbar\": {\"outlinewidth\": 0, \"ticks\": \"\"}, \"colorscale\": [[0.0, \"#0d0887\"], [0.1111111111111111, \"#46039f\"], [0.2222222222222222, \"#7201a8\"], [0.3333333333333333, \"#9c179e\"], [0.4444444444444444, \"#bd3786\"], [0.5555555555555556, \"#d8576b\"], [0.6666666666666666, \"#ed7953\"], [0.7777777777777778, \"#fb9f3a\"], [0.8888888888888888, \"#fdca26\"], [1.0, \"#f0f921\"]], \"type\": \"surface\"}], \"table\": [{\"cells\": {\"fill\": {\"color\": \"#EBF0F8\"}, \"line\": {\"color\": \"white\"}}, \"header\": {\"fill\": {\"color\": \"#C8D4E3\"}, \"line\": {\"color\": \"white\"}}, \"type\": \"table\"}]}, \"layout\": {\"annotationdefaults\": {\"arrowcolor\": \"#2a3f5f\", \"arrowhead\": 0, \"arrowwidth\": 1}, \"autotypenumbers\": \"strict\", \"coloraxis\": {\"colorbar\": {\"outlinewidth\": 0, \"ticks\": \"\"}}, \"colorscale\": {\"diverging\": [[0, \"#8e0152\"], [0.1, \"#c51b7d\"], [0.2, \"#de77ae\"], [0.3, \"#f1b6da\"], [0.4, \"#fde0ef\"], [0.5, \"#f7f7f7\"], [0.6, \"#e6f5d0\"], [0.7, \"#b8e186\"], [0.8, \"#7fbc41\"], [0.9, \"#4d9221\"], [1, \"#276419\"]], \"sequential\": [[0.0, \"#0d0887\"], [0.1111111111111111, \"#46039f\"], [0.2222222222222222, \"#7201a8\"], [0.3333333333333333, \"#9c179e\"], [0.4444444444444444, \"#bd3786\"], [0.5555555555555556, \"#d8576b\"], [0.6666666666666666, \"#ed7953\"], [0.7777777777777778, \"#fb9f3a\"], [0.8888888888888888, \"#fdca26\"], [1.0, \"#f0f921\"]], \"sequentialminus\": [[0.0, \"#0d0887\"], [0.1111111111111111, \"#46039f\"], [0.2222222222222222, \"#7201a8\"], [0.3333333333333333, \"#9c179e\"], [0.4444444444444444, \"#bd3786\"], [0.5555555555555556, \"#d8576b\"], [0.6666666666666666, \"#ed7953\"], [0.7777777777777778, \"#fb9f3a\"], [0.8888888888888888, \"#fdca26\"], [1.0, \"#f0f921\"]]}, \"colorway\": [\"#636efa\", \"#EF553B\", \"#00cc96\", \"#ab63fa\", \"#FFA15A\", \"#19d3f3\", \"#FF6692\", \"#B6E880\", \"#FF97FF\", \"#FECB52\"], \"font\": {\"color\": \"#2a3f5f\"}, \"geo\": {\"bgcolor\": \"white\", \"lakecolor\": \"white\", \"landcolor\": \"#E5ECF6\", \"showlakes\": true, \"showland\": true, \"subunitcolor\": \"white\"}, \"hoverlabel\": {\"align\": \"left\"}, \"hovermode\": \"closest\", \"mapbox\": {\"style\": \"light\"}, \"paper_bgcolor\": \"white\", \"plot_bgcolor\": \"#E5ECF6\", \"polar\": {\"angularaxis\": {\"gridcolor\": \"white\", \"linecolor\": \"white\", \"ticks\": \"\"}, \"bgcolor\": \"#E5ECF6\", \"radialaxis\": {\"gridcolor\": \"white\", \"linecolor\": \"white\", \"ticks\": \"\"}}, \"scene\": {\"xaxis\": {\"backgroundcolor\": \"#E5ECF6\", \"gridcolor\": \"white\", \"gridwidth\": 2, \"linecolor\": \"white\", \"showbackground\": true, \"ticks\": \"\", \"zerolinecolor\": \"white\"}, \"yaxis\": {\"backgroundcolor\": \"#E5ECF6\", \"gridcolor\": \"white\", \"gridwidth\": 2, \"linecolor\": \"white\", \"showbackground\": true, \"ticks\": \"\", \"zerolinecolor\": \"white\"}, \"zaxis\": {\"backgroundcolor\": \"#E5ECF6\", \"gridcolor\": \"white\", \"gridwidth\": 2, \"linecolor\": \"white\", \"showbackground\": true, \"ticks\": \"\", \"zerolinecolor\": \"white\"}}, \"shapedefaults\": {\"line\": {\"color\": \"#2a3f5f\"}}, \"ternary\": {\"aaxis\": {\"gridcolor\": \"white\", \"linecolor\": \"white\", \"ticks\": \"\"}, \"baxis\": {\"gridcolor\": \"white\", \"linecolor\": \"white\", \"ticks\": \"\"}, \"bgcolor\": \"#E5ECF6\", \"caxis\": {\"gridcolor\": \"white\", \"linecolor\": \"white\", \"ticks\": \"\"}}, \"title\": {\"x\": 0.05}, \"xaxis\": {\"automargin\": true, \"gridcolor\": \"white\", \"linecolor\": \"white\", \"ticks\": \"\", \"title\": {\"standoff\": 15}, \"zerolinecolor\": \"white\", \"zerolinewidth\": 2}, \"yaxis\": {\"automargin\": true, \"gridcolor\": \"white\", \"linecolor\": \"white\", \"ticks\": \"\", \"title\": {\"standoff\": 15}, \"zerolinecolor\": \"white\", \"zerolinewidth\": 2}}}},                        {\"responsive\": true}                    ).then(function(){\n",
       "                            \n",
       "var gd = document.getElementById('95d0a176-1a25-4473-ad97-02a3b6da623f');\n",
       "var x = new MutationObserver(function (mutations, observer) {{\n",
       "        var display = window.getComputedStyle(gd).display;\n",
       "        if (!display || display === 'none') {{\n",
       "            console.log([gd, 'removed!']);\n",
       "            Plotly.purge(gd);\n",
       "            observer.disconnect();\n",
       "        }}\n",
       "}});\n",
       "\n",
       "// Listen for the removal of the full notebook cells\n",
       "var notebookContainer = gd.closest('#notebook-container');\n",
       "if (notebookContainer) {{\n",
       "    x.observe(notebookContainer, {childList: true});\n",
       "}}\n",
       "\n",
       "// Listen for the clearing of the current output cell\n",
       "var outputEl = gd.closest('.output');\n",
       "if (outputEl) {{\n",
       "    x.observe(outputEl, {childList: true});\n",
       "}}\n",
       "\n",
       "                        })                };                });            </script>        </div>"
      ]
     },
     "metadata": {},
     "output_type": "display_data"
    }
   ],
   "source": [
    "token = 'pk.eyJ1IjoiYmJydXNzbzExNSIsImEiOiJja29qY2x4Z2wwMnk3MnBvNzRldXo2a2J2In0.6zgZNfkLxe6DylEBbMglZA'\n",
    "\n",
    "fig = px.scatter_mapbox(postmates_grouped, lat=\"Latitude\", lon=\"Longitude\", \n",
    "                        size=\"scale\", hover_name=\"Name\", color=\"Category\", hover_data=[\"Favorites\"], zoom=10, height=300)\n",
    "fig.update_layout(mapbox_style=\"dark\", mapbox_accesstoken=token)\n",
    "fig.update_traces(marker={'sizemin':4})\n",
    "fig.update_layout(margin={\"r\":0,\"t\":0,\"l\":0,\"b\":0})\n",
    "\n",
    "fig.show()\n"
   ]
  },
  {
   "cell_type": "code",
   "execution_count": null,
   "metadata": {},
   "outputs": [],
   "source": []
  }
 ],
 "metadata": {
  "kernelspec": {
   "display_name": "Python 3",
   "language": "python",
   "name": "python3"
  },
  "language_info": {
   "codemirror_mode": {
    "name": "ipython",
    "version": 3
   },
   "file_extension": ".py",
   "mimetype": "text/x-python",
   "name": "python",
   "nbconvert_exporter": "python",
   "pygments_lexer": "ipython3",
   "version": "3.8.3"
  }
 },
 "nbformat": 4,
 "nbformat_minor": 4
}
