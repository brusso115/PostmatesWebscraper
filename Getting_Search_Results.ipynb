{
 "cells": [
  {
   "cell_type": "code",
   "execution_count": 30,
   "metadata": {},
   "outputs": [
    {
     "name": "stderr",
     "output_type": "stream",
     "text": [
      "[nltk_data] Downloading package stopwords to\n",
      "[nltk_data]     /Users/baileyrusso/nltk_data...\n",
      "[nltk_data]   Package stopwords is already up-to-date!\n",
      "[nltk_data] Downloading package wordnet to\n",
      "[nltk_data]     /Users/baileyrusso/nltk_data...\n",
      "[nltk_data]   Package wordnet is already up-to-date!\n",
      "[nltk_data] Downloading package punkt to\n",
      "[nltk_data]     /Users/baileyrusso/nltk_data...\n",
      "[nltk_data]   Package punkt is already up-to-date!\n"
     ]
    },
    {
     "data": {
      "text/plain": [
       "True"
      ]
     },
     "execution_count": 30,
     "metadata": {},
     "output_type": "execute_result"
    }
   ],
   "source": [
    "import pandas as pd\n",
    "import numpy as np\n",
    "import re\n",
    "import matplotlib.pyplot as plt\n",
    "import seaborn as sns\n",
    "import nltk\n",
    "from sklearn.metrics.pairwise import cosine_similarity\n",
    "from sklearn.feature_extraction.text import CountVectorizer\n",
    "from sklearn.neighbors import NearestNeighbors\n",
    "from sklearn.neighbors import (NeighborhoodComponentsAnalysis,\n",
    "KNeighborsClassifier)\n",
    "from nltk.stem import WordNetLemmatizer\n",
    "from nltk.corpus import stopwords\n",
    "from nltk.tokenize import word_tokenize\n",
    "nltk.download('stopwords')\n",
    "nltk.download('wordnet')\n",
    "nltk.download('punkt')"
   ]
  },
  {
   "cell_type": "code",
   "execution_count": 31,
   "metadata": {},
   "outputs": [],
   "source": [
    "postmates = pd.read_csv('/Users/baileyrusso/PycharmProjects/GrubHubScraper/postmates_all7.csv')\n",
    "postmates = postmates.loc[:, ~postmates.columns.str.contains('^Unnamed')]"
   ]
  },
  {
   "cell_type": "code",
   "execution_count": 32,
   "metadata": {},
   "outputs": [],
   "source": [
    "postmatesSub = postmates[['Name','MenuItemPrice','Category','MenuItem','MenuItemDescription']]"
   ]
  },
  {
   "cell_type": "markdown",
   "metadata": {},
   "source": [
    "# Split Menu Item Description By Word"
   ]
  },
  {
   "cell_type": "code",
   "execution_count": 33,
   "metadata": {},
   "outputs": [],
   "source": [
    "tokenizer = nltk.RegexpTokenizer(r\"\\w+\")"
   ]
  },
  {
   "cell_type": "code",
   "execution_count": 34,
   "metadata": {},
   "outputs": [
    {
     "name": "stderr",
     "output_type": "stream",
     "text": [
      "<ipython-input-34-6796612937ba>:2: SettingWithCopyWarning: \n",
      "A value is trying to be set on a copy of a slice from a DataFrame.\n",
      "Try using .loc[row_indexer,col_indexer] = value instead\n",
      "\n",
      "See the caveats in the documentation: https://pandas.pydata.org/pandas-docs/stable/user_guide/indexing.html#returning-a-view-versus-a-copy\n",
      "  postmatesSub['MenuItemDescription'] = list(map(lambda row: tokenizer.tokenize(str(row)), postmatesSub['MenuItemDescription']))\n"
     ]
    }
   ],
   "source": [
    "postmatesSub['MenuItemDescription'] = list(map(lambda row: tokenizer.tokenize(str(row)), postmatesSub['MenuItemDescription']))\n"
   ]
  },
  {
   "cell_type": "markdown",
   "metadata": {},
   "source": [
    "# Split Menu Item Name By Word"
   ]
  },
  {
   "cell_type": "code",
   "execution_count": 35,
   "metadata": {},
   "outputs": [
    {
     "name": "stderr",
     "output_type": "stream",
     "text": [
      "<ipython-input-35-71a4ae9fb9b7>:2: SettingWithCopyWarning: \n",
      "A value is trying to be set on a copy of a slice from a DataFrame.\n",
      "Try using .loc[row_indexer,col_indexer] = value instead\n",
      "\n",
      "See the caveats in the documentation: https://pandas.pydata.org/pandas-docs/stable/user_guide/indexing.html#returning-a-view-versus-a-copy\n",
      "  postmatesSub['MenuItem'] = list(map(lambda row: tokenizer.tokenize(str(row)), postmatesSub['MenuItem']))\n"
     ]
    }
   ],
   "source": [
    "postmatesSub['MenuItem'] = list(map(lambda row: tokenizer.tokenize(str(row)), postmatesSub['MenuItem']))\n"
   ]
  },
  {
   "cell_type": "markdown",
   "metadata": {},
   "source": [
    "# BOW Preprocessing"
   ]
  },
  {
   "cell_type": "code",
   "execution_count": 37,
   "metadata": {},
   "outputs": [],
   "source": [
    "#combine columns into bag of words\n",
    "postmates['BagOfWords'] = postmatesSub['MenuItem'] + postmatesSub['MenuItemDescription']\n",
    "\n"
   ]
  },
  {
   "cell_type": "code",
   "execution_count": 38,
   "metadata": {},
   "outputs": [],
   "source": [
    "#lowercase all words\n",
    "postmates['BagOfWords'] = list(map(lambda row: [str(each_word).lower() for each_word in row], postmates['BagOfWords']))\n"
   ]
  },
  {
   "cell_type": "code",
   "execution_count": 40,
   "metadata": {},
   "outputs": [],
   "source": [
    "#remove stopwords\n",
    "stop_words = stopwords.words('english')\n",
    "postmates['BagOfWords'] = list(map(lambda word_list: [word for word in word_list if word not in stopwords.words('english')], postmates['BagOfWords']))\n",
    "\n",
    "\n"
   ]
  },
  {
   "cell_type": "code",
   "execution_count": 42,
   "metadata": {},
   "outputs": [],
   "source": [
    "#lemmatize words\n",
    "lemmatizer = WordNetLemmatizer()\n",
    "postmates['BagOfWords'] = list(map(lambda words: [lemmatizer.lemmatize(word) for word in words], postmates['BagOfWords']))\n",
    "\n",
    "\n"
   ]
  },
  {
   "cell_type": "code",
   "execution_count": 46,
   "metadata": {},
   "outputs": [],
   "source": [
    "postmates['BagOfWords'] = list(map(lambda row: ' '.join(row), postmates['BagOfWords']))"
   ]
  },
  {
   "cell_type": "markdown",
   "metadata": {},
   "source": [
    "# Vectorize BOW"
   ]
  },
  {
   "cell_type": "code",
   "execution_count": 48,
   "metadata": {},
   "outputs": [],
   "source": [
    "count = CountVectorizer()\n",
    "countVec = count.fit(postmates['BagOfWords'])\n",
    "count_matrix = countVec.transform(postmates['BagOfWords'])"
   ]
  },
  {
   "cell_type": "markdown",
   "metadata": {},
   "source": [
    "# Get Most Similar Items To User Input"
   ]
  },
  {
   "cell_type": "code",
   "execution_count": 49,
   "metadata": {},
   "outputs": [],
   "source": [
    "def getMostSimilarItems(user_input):\n",
    "    user_input = user_input.split(' ')\n",
    "    user_input = [word for word in user_input if word not in stopwords.words('english')]\n",
    "    user_input = [lemmatizer.lemmatize(word) for word in user_input]\n",
    "    user_input = ' '.join(user_input)\n",
    "    user_input = [user_input]\n",
    "    \n",
    "    count_matrix_inp = countVec.transform(user_input)\n",
    "    \n",
    "    cosine_sim = cosine_similarity(count_matrix, count_matrix_inp)\n",
    "    most_similar_scores = sorted(cosine_sim[:,0], reverse=True)\n",
    "    most_similar = cosine_sim[:,0].argsort(axis=0)[::-1]\n",
    "    most_similar_comb = pd.concat([pd.Series(most_similar), pd.DataFrame(most_similar_scores, columns=['Cosine_Similarity_Score'])], axis=1)\n",
    "    most_similar_comb = most_similar_comb.set_index(0)\n",
    "\n",
    "    similar = pd.merge(postmates, most_similar_comb, left_index=True, right_index=True)\n",
    "    similar = similar.sort_values(by='Cosine_Similarity_Score', ascending=False)\n",
    "    \n",
    "    return similar[['Name','MenuItem', 'Cosine_Similarity_Score']]\n"
   ]
  },
  {
   "cell_type": "code",
   "execution_count": 50,
   "metadata": {},
   "outputs": [
    {
     "data": {
      "text/html": [
       "<div>\n",
       "<style scoped>\n",
       "    .dataframe tbody tr th:only-of-type {\n",
       "        vertical-align: middle;\n",
       "    }\n",
       "\n",
       "    .dataframe tbody tr th {\n",
       "        vertical-align: top;\n",
       "    }\n",
       "\n",
       "    .dataframe thead th {\n",
       "        text-align: right;\n",
       "    }\n",
       "</style>\n",
       "<table border=\"1\" class=\"dataframe\">\n",
       "  <thead>\n",
       "    <tr style=\"text-align: right;\">\n",
       "      <th></th>\n",
       "      <th>Name</th>\n",
       "      <th>MenuItem</th>\n",
       "      <th>Cosine_Similarity_Score</th>\n",
       "    </tr>\n",
       "  </thead>\n",
       "  <tbody>\n",
       "    <tr>\n",
       "      <th>96479</th>\n",
       "      <td>Aria</td>\n",
       "      <td>SPAGHETTI WITH MEATBALLS</td>\n",
       "      <td>0.801784</td>\n",
       "    </tr>\n",
       "    <tr>\n",
       "      <th>86115</th>\n",
       "      <td>Europan Cafe</td>\n",
       "      <td>Spaghetti</td>\n",
       "      <td>0.707107</td>\n",
       "    </tr>\n",
       "    <tr>\n",
       "      <th>62563</th>\n",
       "      <td>Murray Hill Diner</td>\n",
       "      <td>Spaghetti</td>\n",
       "      <td>0.707107</td>\n",
       "    </tr>\n",
       "    <tr>\n",
       "      <th>93635</th>\n",
       "      <td>Olympic Flame Diner</td>\n",
       "      <td>Spaghetti</td>\n",
       "      <td>0.707107</td>\n",
       "    </tr>\n",
       "    <tr>\n",
       "      <th>95472</th>\n",
       "      <td>Carnegie Diner &amp; Cafe</td>\n",
       "      <td>Spaghetti</td>\n",
       "      <td>0.707107</td>\n",
       "    </tr>\n",
       "    <tr>\n",
       "      <th>79264</th>\n",
       "      <td>Pasta Pirozzi</td>\n",
       "      <td>Spaghetti and Meatballs</td>\n",
       "      <td>0.666667</td>\n",
       "    </tr>\n",
       "    <tr>\n",
       "      <th>10451</th>\n",
       "      <td>Pasta Glory</td>\n",
       "      <td>Spaghetti Pomodoro</td>\n",
       "      <td>0.632456</td>\n",
       "    </tr>\n",
       "    <tr>\n",
       "      <th>85941</th>\n",
       "      <td>Sunflower Cafe</td>\n",
       "      <td>Spaghetti Pasta</td>\n",
       "      <td>0.632456</td>\n",
       "    </tr>\n",
       "    <tr>\n",
       "      <th>80194</th>\n",
       "      <td>Hi-Life Restaurant</td>\n",
       "      <td>Spaghetti</td>\n",
       "      <td>0.632456</td>\n",
       "    </tr>\n",
       "    <tr>\n",
       "      <th>79300</th>\n",
       "      <td>Pasta Glory</td>\n",
       "      <td>Spaghetti Pomodoro</td>\n",
       "      <td>0.632456</td>\n",
       "    </tr>\n",
       "    <tr>\n",
       "      <th>51026</th>\n",
       "      <td>Pizza Italia</td>\n",
       "      <td>Spaghetti Carbonara</td>\n",
       "      <td>0.603023</td>\n",
       "    </tr>\n",
       "    <tr>\n",
       "      <th>50051</th>\n",
       "      <td>Sams Deli &amp; Pizza</td>\n",
       "      <td>Spaghetti &amp; Meatballs</td>\n",
       "      <td>0.577350</td>\n",
       "    </tr>\n",
       "    <tr>\n",
       "      <th>85939</th>\n",
       "      <td>Sunflower Cafe</td>\n",
       "      <td>Spaghetti Neapolitan Pasta</td>\n",
       "      <td>0.577350</td>\n",
       "    </tr>\n",
       "    <tr>\n",
       "      <th>35001</th>\n",
       "      <td>Midtown Restaurant</td>\n",
       "      <td>Spaghetti &amp; Meatballs</td>\n",
       "      <td>0.577350</td>\n",
       "    </tr>\n",
       "    <tr>\n",
       "      <th>79652</th>\n",
       "      <td>Bardolino Pizza II</td>\n",
       "      <td>Spaghetti with Sausage</td>\n",
       "      <td>0.577350</td>\n",
       "    </tr>\n",
       "    <tr>\n",
       "      <th>46288</th>\n",
       "      <td>Famous Amadeus Pizza</td>\n",
       "      <td>Baked Spaghetti</td>\n",
       "      <td>0.577350</td>\n",
       "    </tr>\n",
       "    <tr>\n",
       "      <th>88163</th>\n",
       "      <td>Famous Amadeus Pizza</td>\n",
       "      <td>Baked Spaghetti</td>\n",
       "      <td>0.577350</td>\n",
       "    </tr>\n",
       "    <tr>\n",
       "      <th>45915</th>\n",
       "      <td>Westside Pasta Bar</td>\n",
       "      <td>Spaghetti Pasta, Maestro</td>\n",
       "      <td>0.577350</td>\n",
       "    </tr>\n",
       "    <tr>\n",
       "      <th>96954</th>\n",
       "      <td>Serafina Meatpacking</td>\n",
       "      <td>Spaghetti Carbonara</td>\n",
       "      <td>0.577350</td>\n",
       "    </tr>\n",
       "    <tr>\n",
       "      <th>75623</th>\n",
       "      <td>The Meatball Shop</td>\n",
       "      <td>Piccata Pasta</td>\n",
       "      <td>0.577350</td>\n",
       "    </tr>\n",
       "    <tr>\n",
       "      <th>91418</th>\n",
       "      <td>The Meatball Shop</td>\n",
       "      <td>Piccata Pasta</td>\n",
       "      <td>0.577350</td>\n",
       "    </tr>\n",
       "    <tr>\n",
       "      <th>45717</th>\n",
       "      <td>Hollywood Diner</td>\n",
       "      <td>Spaghetti &amp; Bolognese</td>\n",
       "      <td>0.577350</td>\n",
       "    </tr>\n",
       "    <tr>\n",
       "      <th>64663</th>\n",
       "      <td>Librettos Pizzeria</td>\n",
       "      <td>Spaghetti &amp; Meatballs</td>\n",
       "      <td>0.577350</td>\n",
       "    </tr>\n",
       "    <tr>\n",
       "      <th>18094</th>\n",
       "      <td>Fiat Café</td>\n",
       "      <td>Spaghetti Carbonara</td>\n",
       "      <td>0.577350</td>\n",
       "    </tr>\n",
       "    <tr>\n",
       "      <th>35035</th>\n",
       "      <td>Midtown Restaurant</td>\n",
       "      <td>Spaghetti Pasta</td>\n",
       "      <td>0.577350</td>\n",
       "    </tr>\n",
       "  </tbody>\n",
       "</table>\n",
       "</div>"
      ],
      "text/plain": [
       "                        Name                    MenuItem  \\\n",
       "96479                   Aria    SPAGHETTI WITH MEATBALLS   \n",
       "86115           Europan Cafe                   Spaghetti   \n",
       "62563      Murray Hill Diner                   Spaghetti   \n",
       "93635    Olympic Flame Diner                   Spaghetti   \n",
       "95472  Carnegie Diner & Cafe                   Spaghetti   \n",
       "79264          Pasta Pirozzi     Spaghetti and Meatballs   \n",
       "10451            Pasta Glory          Spaghetti Pomodoro   \n",
       "85941         Sunflower Cafe             Spaghetti Pasta   \n",
       "80194     Hi-Life Restaurant                   Spaghetti   \n",
       "79300            Pasta Glory          Spaghetti Pomodoro   \n",
       "51026           Pizza Italia         Spaghetti Carbonara   \n",
       "50051      Sams Deli & Pizza       Spaghetti & Meatballs   \n",
       "85939         Sunflower Cafe  Spaghetti Neapolitan Pasta   \n",
       "35001     Midtown Restaurant       Spaghetti & Meatballs   \n",
       "79652     Bardolino Pizza II      Spaghetti with Sausage   \n",
       "46288   Famous Amadeus Pizza             Baked Spaghetti   \n",
       "88163   Famous Amadeus Pizza             Baked Spaghetti   \n",
       "45915     Westside Pasta Bar    Spaghetti Pasta, Maestro   \n",
       "96954   Serafina Meatpacking         Spaghetti Carbonara   \n",
       "75623      The Meatball Shop               Piccata Pasta   \n",
       "91418      The Meatball Shop               Piccata Pasta   \n",
       "45717        Hollywood Diner       Spaghetti & Bolognese   \n",
       "64663     Librettos Pizzeria       Spaghetti & Meatballs   \n",
       "18094              Fiat Café         Spaghetti Carbonara   \n",
       "35035     Midtown Restaurant             Spaghetti Pasta   \n",
       "\n",
       "       Cosine_Similarity_Score  \n",
       "96479                 0.801784  \n",
       "86115                 0.707107  \n",
       "62563                 0.707107  \n",
       "93635                 0.707107  \n",
       "95472                 0.707107  \n",
       "79264                 0.666667  \n",
       "10451                 0.632456  \n",
       "85941                 0.632456  \n",
       "80194                 0.632456  \n",
       "79300                 0.632456  \n",
       "51026                 0.603023  \n",
       "50051                 0.577350  \n",
       "85939                 0.577350  \n",
       "35001                 0.577350  \n",
       "79652                 0.577350  \n",
       "46288                 0.577350  \n",
       "88163                 0.577350  \n",
       "45915                 0.577350  \n",
       "96954                 0.577350  \n",
       "75623                 0.577350  \n",
       "91418                 0.577350  \n",
       "45717                 0.577350  \n",
       "64663                 0.577350  \n",
       "18094                 0.577350  \n",
       "35035                 0.577350  "
      ]
     },
     "execution_count": 50,
     "metadata": {},
     "output_type": "execute_result"
    }
   ],
   "source": [
    "most_similar = getMostSimilarItems('Spaghetti and Meatballs')\n",
    "most_similar.head(25)"
   ]
  },
  {
   "cell_type": "code",
   "execution_count": 40,
   "metadata": {},
   "outputs": [],
   "source": [
    "#postmates.to_csv('postmates_BOW.csv')"
   ]
  }
 ],
 "metadata": {
  "kernelspec": {
   "display_name": "Python 3",
   "language": "python",
   "name": "python3"
  },
  "language_info": {
   "codemirror_mode": {
    "name": "ipython",
    "version": 3
   },
   "file_extension": ".py",
   "mimetype": "text/x-python",
   "name": "python",
   "nbconvert_exporter": "python",
   "pygments_lexer": "ipython3",
   "version": "3.8.3"
  }
 },
 "nbformat": 4,
 "nbformat_minor": 4
}
