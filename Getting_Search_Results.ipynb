{
 "cells": [
  {
   "cell_type": "code",
   "execution_count": 2,
   "metadata": {},
   "outputs": [
    {
     "name": "stderr",
     "output_type": "stream",
     "text": [
      "[nltk_data] Downloading package stopwords to\n",
      "[nltk_data]     /Users/baileyrusso/nltk_data...\n",
      "[nltk_data]   Package stopwords is already up-to-date!\n",
      "[nltk_data] Downloading package wordnet to\n",
      "[nltk_data]     /Users/baileyrusso/nltk_data...\n",
      "[nltk_data]   Package wordnet is already up-to-date!\n",
      "[nltk_data] Downloading package punkt to\n",
      "[nltk_data]     /Users/baileyrusso/nltk_data...\n",
      "[nltk_data]   Package punkt is already up-to-date!\n"
     ]
    },
    {
     "data": {
      "text/plain": [
       "True"
      ]
     },
     "execution_count": 2,
     "metadata": {},
     "output_type": "execute_result"
    }
   ],
   "source": [
    "import pandas as pd\n",
    "import numpy as np\n",
    "import re\n",
    "import matplotlib.pyplot as plt\n",
    "import seaborn as sns\n",
    "import nltk\n",
    "from sklearn.metrics.pairwise import cosine_similarity\n",
    "from sklearn.feature_extraction.text import CountVectorizer\n",
    "from sklearn.neighbors import NearestNeighbors\n",
    "from sklearn.neighbors import (NeighborhoodComponentsAnalysis,\n",
    "KNeighborsClassifier)\n",
    "from nltk.stem import WordNetLemmatizer\n",
    "from nltk.corpus import stopwords\n",
    "from nltk.tokenize import word_tokenize\n",
    "nltk.download('stopwords')\n",
    "nltk.download('wordnet')\n",
    "nltk.download('punkt')"
   ]
  },
  {
   "cell_type": "code",
   "execution_count": 3,
   "metadata": {},
   "outputs": [],
   "source": [
    "postmates = pd.read_csv('/Users/baileyrusso/PycharmProjects/GrubHubScraper/postmates_all7.csv')\n",
    "postmates = postmates.loc[:, ~postmates.columns.str.contains('^Unnamed')]"
   ]
  },
  {
   "cell_type": "code",
   "execution_count": 4,
   "metadata": {},
   "outputs": [],
   "source": [
    "postmatesSub = postmates[['Name','MenuItemPrice','Category','MenuItem','MenuItemDescription']]"
   ]
  },
  {
   "cell_type": "markdown",
   "metadata": {},
   "source": [
    "# Split Menu Item Description By Word"
   ]
  },
  {
   "cell_type": "code",
   "execution_count": 5,
   "metadata": {},
   "outputs": [],
   "source": [
    "tokenizer = nltk.RegexpTokenizer(r\"\\w+\")"
   ]
  },
  {
   "cell_type": "code",
   "execution_count": 6,
   "metadata": {},
   "outputs": [
    {
     "name": "stderr",
     "output_type": "stream",
     "text": [
      "/Users/baileyrusso/opt/anaconda3/lib/python3.8/site-packages/pandas/core/frame.py:3607: SettingWithCopyWarning: \n",
      "A value is trying to be set on a copy of a slice from a DataFrame.\n",
      "Try using .loc[row_indexer,col_indexer] = value instead\n",
      "\n",
      "See the caveats in the documentation: https://pandas.pydata.org/pandas-docs/stable/user_guide/indexing.html#returning-a-view-versus-a-copy\n",
      "  self._set_item(key, value)\n"
     ]
    }
   ],
   "source": [
    "postmatesSub['MenuItemDescription'] = list(map(lambda row: tokenizer.tokenize(str(row)), postmatesSub['MenuItemDescription']))\n"
   ]
  },
  {
   "cell_type": "markdown",
   "metadata": {},
   "source": [
    "# Split Menu Item Name By Word"
   ]
  },
  {
   "cell_type": "code",
   "execution_count": 7,
   "metadata": {},
   "outputs": [],
   "source": [
    "postmatesSub['MenuItem'] = list(map(lambda row: tokenizer.tokenize(str(row)), postmatesSub['MenuItem']))\n"
   ]
  },
  {
   "cell_type": "markdown",
   "metadata": {},
   "source": [
    "# BOW Preprocessing"
   ]
  },
  {
   "cell_type": "code",
   "execution_count": 8,
   "metadata": {},
   "outputs": [],
   "source": [
    "#combine columns into bag of words\n",
    "postmates['BagOfWords'] = postmatesSub['MenuItem'] + postmatesSub['MenuItemDescription']\n",
    "\n"
   ]
  },
  {
   "cell_type": "code",
   "execution_count": 9,
   "metadata": {},
   "outputs": [],
   "source": [
    "#lowercase all words\n",
    "postmates['BagOfWords'] = list(map(lambda row: [str(each_word).lower() for each_word in row], postmates['BagOfWords']))\n"
   ]
  },
  {
   "cell_type": "code",
   "execution_count": 10,
   "metadata": {},
   "outputs": [],
   "source": [
    "#remove stopwords\n",
    "stop_words = stopwords.words('english')\n",
    "postmates['BagOfWords'] = list(map(lambda word_list: [word for word in word_list if word not in stopwords.words('english')], postmates['BagOfWords']))\n",
    "\n",
    "\n"
   ]
  },
  {
   "cell_type": "code",
   "execution_count": 11,
   "metadata": {},
   "outputs": [],
   "source": [
    "#lemmatize words\n",
    "lemmatizer = WordNetLemmatizer()\n",
    "postmates['BagOfWords'] = list(map(lambda words: [lemmatizer.lemmatize(word) for word in words], postmates['BagOfWords']))\n",
    "\n",
    "\n"
   ]
  },
  {
   "cell_type": "code",
   "execution_count": 12,
   "metadata": {},
   "outputs": [],
   "source": [
    "postmates['BagOfWords'] = list(map(lambda row: ' '.join(row), postmates['BagOfWords']))"
   ]
  },
  {
   "cell_type": "markdown",
   "metadata": {},
   "source": [
    "# Vectorize BOW"
   ]
  },
  {
   "cell_type": "code",
   "execution_count": 13,
   "metadata": {},
   "outputs": [],
   "source": [
    "count = CountVectorizer()\n",
    "countVec = count.fit(postmates['BagOfWords'])\n",
    "count_matrix = countVec.transform(postmates['BagOfWords'])"
   ]
  },
  {
   "cell_type": "markdown",
   "metadata": {},
   "source": [
    "# Get Most Similar Items To User Input"
   ]
  },
  {
   "cell_type": "code",
   "execution_count": 14,
   "metadata": {},
   "outputs": [],
   "source": [
    "def getMostSimilarItems(user_input):\n",
    "    user_input = user_input.split(' ')\n",
    "    user_input = [word for word in user_input if word not in stopwords.words('english')]\n",
    "    user_input = [lemmatizer.lemmatize(word) for word in user_input]\n",
    "    user_input = ' '.join(user_input)\n",
    "    user_input = [user_input]\n",
    "    \n",
    "    count_matrix_inp = countVec.transform(user_input)\n",
    "    \n",
    "    cosine_sim = cosine_similarity(count_matrix, count_matrix_inp)\n",
    "    most_similar_scores = sorted(cosine_sim[:,0], reverse=True)\n",
    "    most_similar = cosine_sim[:,0].argsort(axis=0)[::-1]\n",
    "    most_similar_comb = pd.concat([pd.Series(most_similar), pd.DataFrame(most_similar_scores, columns=['Cosine_Similarity_Score'])], axis=1)\n",
    "    most_similar_comb = most_similar_comb.set_index(0)\n",
    "\n",
    "    similar = pd.merge(postmates, most_similar_comb, left_index=True, right_index=True)\n",
    "    similar = similar.sort_values(by='Cosine_Similarity_Score', ascending=False)\n",
    "    \n",
    "    return similar[['Name','MenuItem', 'Cosine_Similarity_Score']]\n"
   ]
  },
  {
   "cell_type": "code",
   "execution_count": 15,
   "metadata": {},
   "outputs": [
    {
     "data": {
      "text/html": [
       "<div>\n",
       "<style scoped>\n",
       "    .dataframe tbody tr th:only-of-type {\n",
       "        vertical-align: middle;\n",
       "    }\n",
       "\n",
       "    .dataframe tbody tr th {\n",
       "        vertical-align: top;\n",
       "    }\n",
       "\n",
       "    .dataframe thead th {\n",
       "        text-align: right;\n",
       "    }\n",
       "</style>\n",
       "<table border=\"1\" class=\"dataframe\">\n",
       "  <thead>\n",
       "    <tr style=\"text-align: right;\">\n",
       "      <th></th>\n",
       "      <th>Name</th>\n",
       "      <th>MenuItem</th>\n",
       "      <th>Cosine_Similarity_Score</th>\n",
       "    </tr>\n",
       "  </thead>\n",
       "  <tbody>\n",
       "    <tr>\n",
       "      <th>81427</th>\n",
       "      <td>Fumo</td>\n",
       "      <td>Chicken Parm Hero</td>\n",
       "      <td>0.816497</td>\n",
       "    </tr>\n",
       "    <tr>\n",
       "      <th>53450</th>\n",
       "      <td>Andys Deli</td>\n",
       "      <td>Chicken Parm Hero</td>\n",
       "      <td>0.707107</td>\n",
       "    </tr>\n",
       "    <tr>\n",
       "      <th>61265</th>\n",
       "      <td>Marinara Pizza</td>\n",
       "      <td>Chicken Parm Slice</td>\n",
       "      <td>0.707107</td>\n",
       "    </tr>\n",
       "    <tr>\n",
       "      <th>76418</th>\n",
       "      <td>Little Italy Pizza</td>\n",
       "      <td>Chicken Parm Hero</td>\n",
       "      <td>0.707107</td>\n",
       "    </tr>\n",
       "    <tr>\n",
       "      <th>44426</th>\n",
       "      <td>B &amp; W Deli &amp; Pizzeria</td>\n",
       "      <td>Chicken Parm Pizza</td>\n",
       "      <td>0.707107</td>\n",
       "    </tr>\n",
       "    <tr>\n",
       "      <th>76550</th>\n",
       "      <td>Marinara Pizza</td>\n",
       "      <td>Chicken Parm Slice</td>\n",
       "      <td>0.707107</td>\n",
       "    </tr>\n",
       "    <tr>\n",
       "      <th>76597</th>\n",
       "      <td>Marinara Pizza</td>\n",
       "      <td>Chicken Parm Hero</td>\n",
       "      <td>0.707107</td>\n",
       "    </tr>\n",
       "    <tr>\n",
       "      <th>21270</th>\n",
       "      <td>B &amp; W Deli &amp; Pizzeria</td>\n",
       "      <td>Chicken Parm Pizza</td>\n",
       "      <td>0.707107</td>\n",
       "    </tr>\n",
       "    <tr>\n",
       "      <th>69922</th>\n",
       "      <td>Parm</td>\n",
       "      <td>Chicken Parm Roll</td>\n",
       "      <td>0.707107</td>\n",
       "    </tr>\n",
       "    <tr>\n",
       "      <th>69925</th>\n",
       "      <td>Parm</td>\n",
       "      <td>Chicken Parm Platter</td>\n",
       "      <td>0.707107</td>\n",
       "    </tr>\n",
       "    <tr>\n",
       "      <th>94323</th>\n",
       "      <td>Peperino NYC Pizza</td>\n",
       "      <td>Chicken Parm Sandwich</td>\n",
       "      <td>0.707107</td>\n",
       "    </tr>\n",
       "    <tr>\n",
       "      <th>94333</th>\n",
       "      <td>Peperino NYC Pizza</td>\n",
       "      <td>Chicken parm plate</td>\n",
       "      <td>0.707107</td>\n",
       "    </tr>\n",
       "    <tr>\n",
       "      <th>94334</th>\n",
       "      <td>Peperino NYC Pizza</td>\n",
       "      <td>Chicken Parm/Spaghetti</td>\n",
       "      <td>0.707107</td>\n",
       "    </tr>\n",
       "    <tr>\n",
       "      <th>61307</th>\n",
       "      <td>Marinara Pizza</td>\n",
       "      <td>Chicken Parm Hero</td>\n",
       "      <td>0.707107</td>\n",
       "    </tr>\n",
       "    <tr>\n",
       "      <th>69910</th>\n",
       "      <td>Parm</td>\n",
       "      <td>Chicken Parm Hero</td>\n",
       "      <td>0.707107</td>\n",
       "    </tr>\n",
       "    <tr>\n",
       "      <th>12016</th>\n",
       "      <td>Parm</td>\n",
       "      <td>Chicken Parm Platter</td>\n",
       "      <td>0.707107</td>\n",
       "    </tr>\n",
       "    <tr>\n",
       "      <th>12003</th>\n",
       "      <td>Parm</td>\n",
       "      <td>Chicken Parm Hero</td>\n",
       "      <td>0.707107</td>\n",
       "    </tr>\n",
       "    <tr>\n",
       "      <th>64681</th>\n",
       "      <td>Librettos Pizzeria</td>\n",
       "      <td>Chicken Parm Hero</td>\n",
       "      <td>0.707107</td>\n",
       "    </tr>\n",
       "    <tr>\n",
       "      <th>12013</th>\n",
       "      <td>Parm</td>\n",
       "      <td>Chicken Parm Roll</td>\n",
       "      <td>0.707107</td>\n",
       "    </tr>\n",
       "    <tr>\n",
       "      <th>76515</th>\n",
       "      <td>Marinara Pizza</td>\n",
       "      <td>Chicken Parm</td>\n",
       "      <td>0.670820</td>\n",
       "    </tr>\n",
       "    <tr>\n",
       "      <th>61314</th>\n",
       "      <td>Marinara Pizza</td>\n",
       "      <td>Chicken Parm</td>\n",
       "      <td>0.670820</td>\n",
       "    </tr>\n",
       "    <tr>\n",
       "      <th>37266</th>\n",
       "      <td>Smileys</td>\n",
       "      <td>4. Chicken Parm Panini</td>\n",
       "      <td>0.670820</td>\n",
       "    </tr>\n",
       "    <tr>\n",
       "      <th>76600</th>\n",
       "      <td>Marinara Pizza</td>\n",
       "      <td>Grilled Chicken Parm Hero</td>\n",
       "      <td>0.632456</td>\n",
       "    </tr>\n",
       "    <tr>\n",
       "      <th>25045</th>\n",
       "      <td>Midnight Express</td>\n",
       "      <td>Chicken Parm Hero Sandwich</td>\n",
       "      <td>0.632456</td>\n",
       "    </tr>\n",
       "    <tr>\n",
       "      <th>76564</th>\n",
       "      <td>Marinara Pizza</td>\n",
       "      <td>Chicken Parm Round Pie</td>\n",
       "      <td>0.632456</td>\n",
       "    </tr>\n",
       "  </tbody>\n",
       "</table>\n",
       "</div>"
      ],
      "text/plain": [
       "                        Name                    MenuItem  \\\n",
       "81427                   Fumo           Chicken Parm Hero   \n",
       "53450             Andys Deli           Chicken Parm Hero   \n",
       "61265         Marinara Pizza          Chicken Parm Slice   \n",
       "76418     Little Italy Pizza           Chicken Parm Hero   \n",
       "44426  B & W Deli & Pizzeria          Chicken Parm Pizza   \n",
       "76550         Marinara Pizza          Chicken Parm Slice   \n",
       "76597         Marinara Pizza           Chicken Parm Hero   \n",
       "21270  B & W Deli & Pizzeria          Chicken Parm Pizza   \n",
       "69922                   Parm           Chicken Parm Roll   \n",
       "69925                   Parm        Chicken Parm Platter   \n",
       "94323     Peperino NYC Pizza       Chicken Parm Sandwich   \n",
       "94333     Peperino NYC Pizza          Chicken parm plate   \n",
       "94334     Peperino NYC Pizza      Chicken Parm/Spaghetti   \n",
       "61307         Marinara Pizza           Chicken Parm Hero   \n",
       "69910                   Parm           Chicken Parm Hero   \n",
       "12016                   Parm        Chicken Parm Platter   \n",
       "12003                   Parm           Chicken Parm Hero   \n",
       "64681     Librettos Pizzeria           Chicken Parm Hero   \n",
       "12013                   Parm           Chicken Parm Roll   \n",
       "76515         Marinara Pizza                Chicken Parm   \n",
       "61314         Marinara Pizza                Chicken Parm   \n",
       "37266                Smileys      4. Chicken Parm Panini   \n",
       "76600         Marinara Pizza   Grilled Chicken Parm Hero   \n",
       "25045       Midnight Express  Chicken Parm Hero Sandwich   \n",
       "76564         Marinara Pizza      Chicken Parm Round Pie   \n",
       "\n",
       "       Cosine_Similarity_Score  \n",
       "81427                 0.816497  \n",
       "53450                 0.707107  \n",
       "61265                 0.707107  \n",
       "76418                 0.707107  \n",
       "44426                 0.707107  \n",
       "76550                 0.707107  \n",
       "76597                 0.707107  \n",
       "21270                 0.707107  \n",
       "69922                 0.707107  \n",
       "69925                 0.707107  \n",
       "94323                 0.707107  \n",
       "94333                 0.707107  \n",
       "94334                 0.707107  \n",
       "61307                 0.707107  \n",
       "69910                 0.707107  \n",
       "12016                 0.707107  \n",
       "12003                 0.707107  \n",
       "64681                 0.707107  \n",
       "12013                 0.707107  \n",
       "76515                 0.670820  \n",
       "61314                 0.670820  \n",
       "37266                 0.670820  \n",
       "76600                 0.632456  \n",
       "25045                 0.632456  \n",
       "76564                 0.632456  "
      ]
     },
     "execution_count": 15,
     "metadata": {},
     "output_type": "execute_result"
    }
   ],
   "source": [
    "most_similar = getMostSimilarItems('Chicken parm')\n",
    "most_similar.head(25)"
   ]
  },
  {
   "cell_type": "code",
   "execution_count": 40,
   "metadata": {},
   "outputs": [],
   "source": [
    "#postmates.to_csv('postmates_BOW.csv')"
   ]
  }
 ],
 "metadata": {
  "kernelspec": {
   "display_name": "Python 3",
   "language": "python",
   "name": "python3"
  },
  "language_info": {
   "codemirror_mode": {
    "name": "ipython",
    "version": 3
   },
   "file_extension": ".py",
   "mimetype": "text/x-python",
   "name": "python",
   "nbconvert_exporter": "python",
   "pygments_lexer": "ipython3",
   "version": "3.8.3"
  }
 },
 "nbformat": 4,
 "nbformat_minor": 4
}
